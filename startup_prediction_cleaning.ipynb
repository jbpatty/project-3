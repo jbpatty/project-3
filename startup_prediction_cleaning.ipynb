{
 "cells": [
  {
   "cell_type": "code",
   "execution_count": 70,
   "metadata": {},
   "outputs": [],
   "source": [
    "from collections import Counter\n",
    "%matplotlib inline\n",
    "import seaborn as sns\n",
    "import matplotlib.pyplot as plt\n",
    "import pickle\n",
    "import re\n",
    "import pandas as pd\n",
    "import numpy as np\n",
    "import datetime as dt"
   ]
  },
  {
   "cell_type": "markdown",
   "metadata": {},
   "source": [
    "## Load Databases"
   ]
  },
  {
   "cell_type": "code",
   "execution_count": 71,
   "metadata": {},
   "outputs": [],
   "source": [
    "companies_df = pd.read_csv(\"/Users/jbpatty/project-3/companies.csv\")\n",
    "\n",
    "acquisitions_df = pd.read_csv(\"/Users/jbpatty/project-3/acquisitions.csv\")\n",
    "\n",
    "investments_df = pd.read_csv(\"/Users/jbpatty/project-3/investments.csv\")\n",
    "\n",
    "rounds_df = pd.read_csv(\"/Users/jbpatty/project-3/rounds.csv\")\n",
    "\n",
    "additions_df = pd.read_csv(\"/Users/jbpatty/project-3/additions.csv\") "
   ]
  },
  {
   "cell_type": "markdown",
   "metadata": {},
   "source": [
    "## Clean Databases"
   ]
  },
  {
   "cell_type": "markdown",
   "metadata": {},
   "source": [
    "### Company Database"
   ]
  },
  {
   "cell_type": "code",
   "execution_count": 249,
   "metadata": {
    "scrolled": true
   },
   "outputs": [
    {
     "data": {
      "text/plain": [
       "permalink            object\n",
       "name                 object\n",
       "homepage_url         object\n",
       "category_list        object\n",
       "funding_total_usd    object\n",
       "status               object\n",
       "country_code         object\n",
       "state_code           object\n",
       "region               object\n",
       "city                 object\n",
       "funding_rounds        int64\n",
       "founded_at           object\n",
       "first_funding_at     object\n",
       "last_funding_at      object\n",
       "dtype: object"
      ]
     },
     "execution_count": 249,
     "metadata": {},
     "output_type": "execute_result"
    }
   ],
   "source": [
    "companies_df.dtypes"
   ]
  },
  {
   "cell_type": "code",
   "execution_count": 250,
   "metadata": {},
   "outputs": [
    {
     "data": {
      "text/plain": [
       "(66368, 14)"
      ]
     },
     "execution_count": 250,
     "metadata": {},
     "output_type": "execute_result"
    }
   ],
   "source": [
    "companies_df.shape"
   ]
  },
  {
   "cell_type": "markdown",
   "metadata": {},
   "source": [
    "#### Remove companies that do not have a name"
   ]
  },
  {
   "cell_type": "code",
   "execution_count": 251,
   "metadata": {},
   "outputs": [
    {
     "data": {
      "text/plain": [
       "(66367, 14)"
      ]
     },
     "execution_count": 251,
     "metadata": {},
     "output_type": "execute_result"
    }
   ],
   "source": [
    "clean_companies_df = companies_df.dropna(subset = ['name'])\n",
    "clean_companies_df.shape"
   ]
  },
  {
   "cell_type": "markdown",
   "metadata": {},
   "source": [
    "#### Remove companies that do not have a first funding date"
   ]
  },
  {
   "cell_type": "code",
   "execution_count": 252,
   "metadata": {},
   "outputs": [
    {
     "data": {
      "text/plain": [
       "(66343, 14)"
      ]
     },
     "execution_count": 252,
     "metadata": {},
     "output_type": "execute_result"
    }
   ],
   "source": [
    "clean_companies_df = clean_companies_df.dropna(subset = ['first_funding_at'])\n",
    "clean_companies_df.shape"
   ]
  },
  {
   "cell_type": "markdown",
   "metadata": {},
   "source": [
    "#### Remove dates missing a year (year 1000 is just wrong) for both first and last funding date using raw string notation from Regex. Years will start with 19__ or 20__"
   ]
  },
  {
   "cell_type": "code",
   "execution_count": 253,
   "metadata": {},
   "outputs": [
    {
     "data": {
      "text/plain": [
       "(66338, 14)"
      ]
     },
     "execution_count": 253,
     "metadata": {},
     "output_type": "execute_result"
    }
   ],
   "source": [
    "clean_companies_df = clean_companies_df[clean_companies_df.first_funding_at.str.match(r'(19)|(20)')]\n",
    "\n",
    "clean_companies_df = clean_companies_df[clean_companies_df.last_funding_at.str.match(r'(19)|(20)')]\n",
    "\n",
    "clean_companies_df.shape"
   ]
  },
  {
   "cell_type": "markdown",
   "metadata": {},
   "source": [
    "#### Adding datetime functionality "
   ]
  },
  {
   "cell_type": "code",
   "execution_count": 254,
   "metadata": {},
   "outputs": [
    {
     "data": {
      "text/plain": [
       "permalink                    object\n",
       "name                         object\n",
       "homepage_url                 object\n",
       "category_list                object\n",
       "funding_total_usd            object\n",
       "status                       object\n",
       "country_code                 object\n",
       "state_code                   object\n",
       "region                       object\n",
       "city                         object\n",
       "funding_rounds                int64\n",
       "founded_at                   object\n",
       "first_funding_at     datetime64[ns]\n",
       "last_funding_at      datetime64[ns]\n",
       "dtype: object"
      ]
     },
     "execution_count": 254,
     "metadata": {},
     "output_type": "execute_result"
    }
   ],
   "source": [
    "clean_companies_df.first_funding_at = pd.to_datetime(clean_companies_df.loc[:, 'first_funding_at'])\n",
    "\n",
    "clean_companies_df.last_funding_at = pd.to_datetime(clean_companies_df.loc[:, 'last_funding_at'])\n",
    "\n",
    "clean_companies_df.dtypes"
   ]
  },
  {
   "cell_type": "markdown",
   "metadata": {},
   "source": [
    "#### Convert funding total and funding rounds from objects to numeric values"
   ]
  },
  {
   "cell_type": "code",
   "execution_count": 255,
   "metadata": {},
   "outputs": [],
   "source": [
    "# Convert '-' into NaN values\n",
    "clean_companies_df.funding_total_usd.replace('-', np.nan, inplace=True)\n",
    "\n",
    "# Convert object to numeric float values\n",
    "clean_companies_df.funding_total_usd = pd.to_numeric(clean_companies_df.loc[:, 'funding_total_usd'])\n",
    "\n",
    "# Convert NaN into 0\n",
    "clean_companies_df[\"funding_total_usd\"] = clean_companies_df[\"funding_total_usd\"].fillna(0)"
   ]
  },
  {
   "cell_type": "code",
   "execution_count": 256,
   "metadata": {},
   "outputs": [
    {
     "data": {
      "text/html": [
       "<div>\n",
       "<style scoped>\n",
       "    .dataframe tbody tr th:only-of-type {\n",
       "        vertical-align: middle;\n",
       "    }\n",
       "\n",
       "    .dataframe tbody tr th {\n",
       "        vertical-align: top;\n",
       "    }\n",
       "\n",
       "    .dataframe thead th {\n",
       "        text-align: right;\n",
       "    }\n",
       "</style>\n",
       "<table border=\"1\" class=\"dataframe\">\n",
       "  <thead>\n",
       "    <tr style=\"text-align: right;\">\n",
       "      <th></th>\n",
       "      <th>permalink</th>\n",
       "      <th>name</th>\n",
       "      <th>homepage_url</th>\n",
       "      <th>category_list</th>\n",
       "      <th>funding_total_usd</th>\n",
       "      <th>status</th>\n",
       "      <th>country_code</th>\n",
       "      <th>state_code</th>\n",
       "      <th>region</th>\n",
       "      <th>city</th>\n",
       "      <th>funding_rounds</th>\n",
       "      <th>founded_at</th>\n",
       "      <th>first_funding_at</th>\n",
       "      <th>last_funding_at</th>\n",
       "    </tr>\n",
       "  </thead>\n",
       "  <tbody>\n",
       "    <tr>\n",
       "      <th>0</th>\n",
       "      <td>/organization/-fame</td>\n",
       "      <td>#fame</td>\n",
       "      <td>http://livfame.com</td>\n",
       "      <td>Media</td>\n",
       "      <td>10000000.0</td>\n",
       "      <td>operating</td>\n",
       "      <td>IND</td>\n",
       "      <td>16</td>\n",
       "      <td>Mumbai</td>\n",
       "      <td>Mumbai</td>\n",
       "      <td>1</td>\n",
       "      <td>NaN</td>\n",
       "      <td>2015-01-05</td>\n",
       "      <td>2015-01-05</td>\n",
       "    </tr>\n",
       "    <tr>\n",
       "      <th>1</th>\n",
       "      <td>/organization/-qounter</td>\n",
       "      <td>:Qounter</td>\n",
       "      <td>http://www.qounter.com</td>\n",
       "      <td>Application Platforms|Real Time|Social Network...</td>\n",
       "      <td>700000.0</td>\n",
       "      <td>operating</td>\n",
       "      <td>USA</td>\n",
       "      <td>DE</td>\n",
       "      <td>DE - Other</td>\n",
       "      <td>Delaware City</td>\n",
       "      <td>2</td>\n",
       "      <td>2014-09-04</td>\n",
       "      <td>2014-03-01</td>\n",
       "      <td>2014-10-14</td>\n",
       "    </tr>\n",
       "    <tr>\n",
       "      <th>2</th>\n",
       "      <td>/organization/-the-one-of-them-inc-</td>\n",
       "      <td>(THE) ONE of THEM,Inc.</td>\n",
       "      <td>http://oneofthem.jp</td>\n",
       "      <td>Apps|Games|Mobile</td>\n",
       "      <td>3406878.0</td>\n",
       "      <td>operating</td>\n",
       "      <td>NaN</td>\n",
       "      <td>NaN</td>\n",
       "      <td>NaN</td>\n",
       "      <td>NaN</td>\n",
       "      <td>1</td>\n",
       "      <td>NaN</td>\n",
       "      <td>2014-01-30</td>\n",
       "      <td>2014-01-30</td>\n",
       "    </tr>\n",
       "    <tr>\n",
       "      <th>3</th>\n",
       "      <td>/organization/0-6-com</td>\n",
       "      <td>0-6.com</td>\n",
       "      <td>http://www.0-6.com</td>\n",
       "      <td>Curated Web</td>\n",
       "      <td>2000000.0</td>\n",
       "      <td>operating</td>\n",
       "      <td>CHN</td>\n",
       "      <td>22</td>\n",
       "      <td>Beijing</td>\n",
       "      <td>Beijing</td>\n",
       "      <td>1</td>\n",
       "      <td>2007-01-01</td>\n",
       "      <td>2008-03-19</td>\n",
       "      <td>2008-03-19</td>\n",
       "    </tr>\n",
       "    <tr>\n",
       "      <th>4</th>\n",
       "      <td>/organization/004-technologies</td>\n",
       "      <td>004 Technologies</td>\n",
       "      <td>http://004gmbh.de/en/004-interact</td>\n",
       "      <td>Software</td>\n",
       "      <td>0.0</td>\n",
       "      <td>operating</td>\n",
       "      <td>USA</td>\n",
       "      <td>IL</td>\n",
       "      <td>Springfield, Illinois</td>\n",
       "      <td>Champaign</td>\n",
       "      <td>1</td>\n",
       "      <td>2010-01-01</td>\n",
       "      <td>2014-07-24</td>\n",
       "      <td>2014-07-24</td>\n",
       "    </tr>\n",
       "  </tbody>\n",
       "</table>\n",
       "</div>"
      ],
      "text/plain": [
       "                             permalink                    name  \\\n",
       "0                  /organization/-fame                   #fame   \n",
       "1               /organization/-qounter                :Qounter   \n",
       "2  /organization/-the-one-of-them-inc-  (THE) ONE of THEM,Inc.   \n",
       "3                /organization/0-6-com                 0-6.com   \n",
       "4       /organization/004-technologies        004 Technologies   \n",
       "\n",
       "                        homepage_url  \\\n",
       "0                 http://livfame.com   \n",
       "1             http://www.qounter.com   \n",
       "2                http://oneofthem.jp   \n",
       "3                 http://www.0-6.com   \n",
       "4  http://004gmbh.de/en/004-interact   \n",
       "\n",
       "                                       category_list  funding_total_usd  \\\n",
       "0                                              Media         10000000.0   \n",
       "1  Application Platforms|Real Time|Social Network...           700000.0   \n",
       "2                                  Apps|Games|Mobile          3406878.0   \n",
       "3                                        Curated Web          2000000.0   \n",
       "4                                           Software                0.0   \n",
       "\n",
       "      status country_code state_code                 region           city  \\\n",
       "0  operating          IND         16                 Mumbai         Mumbai   \n",
       "1  operating          USA         DE             DE - Other  Delaware City   \n",
       "2  operating          NaN        NaN                    NaN            NaN   \n",
       "3  operating          CHN         22                Beijing        Beijing   \n",
       "4  operating          USA         IL  Springfield, Illinois      Champaign   \n",
       "\n",
       "   funding_rounds  founded_at first_funding_at last_funding_at  \n",
       "0               1         NaN       2015-01-05      2015-01-05  \n",
       "1               2  2014-09-04       2014-03-01      2014-10-14  \n",
       "2               1         NaN       2014-01-30      2014-01-30  \n",
       "3               1  2007-01-01       2008-03-19      2008-03-19  \n",
       "4               1  2010-01-01       2014-07-24      2014-07-24  "
      ]
     },
     "execution_count": 256,
     "metadata": {},
     "output_type": "execute_result"
    }
   ],
   "source": [
    "clean_companies_df.head()"
   ]
  },
  {
   "cell_type": "code",
   "execution_count": 257,
   "metadata": {},
   "outputs": [],
   "source": [
    "# Convert object to numeric integer values\n",
    "clean_companies_df.funding_rounds = pd.to_numeric(clean_companies_df.loc[:, 'funding_rounds'])"
   ]
  },
  {
   "cell_type": "code",
   "execution_count": 258,
   "metadata": {},
   "outputs": [
    {
     "name": "stdout",
     "output_type": "stream",
     "text": [
      "<class 'pandas.core.frame.DataFrame'>\n",
      "Int64Index: 66338 entries, 0 to 66367\n",
      "Data columns (total 14 columns):\n",
      " #   Column             Non-Null Count  Dtype         \n",
      "---  ------             --------------  -----         \n",
      " 0   permalink          66338 non-null  object        \n",
      " 1   name               66338 non-null  object        \n",
      " 2   homepage_url       61280 non-null  object        \n",
      " 3   category_list      63191 non-null  object        \n",
      " 4   funding_total_usd  66338 non-null  float64       \n",
      " 5   status             66338 non-null  object        \n",
      " 6   country_code       59383 non-null  object        \n",
      " 7   state_code         57794 non-null  object        \n",
      " 8   region             58311 non-null  object        \n",
      " 9   city               58313 non-null  object        \n",
      " 10  funding_rounds     66338 non-null  int64         \n",
      " 11  founded_at         51122 non-null  object        \n",
      " 12  first_funding_at   66338 non-null  datetime64[ns]\n",
      " 13  last_funding_at    66338 non-null  datetime64[ns]\n",
      "dtypes: datetime64[ns](2), float64(1), int64(1), object(10)\n",
      "memory usage: 7.6+ MB\n"
     ]
    }
   ],
   "source": [
    "clean_companies_df.info()"
   ]
  },
  {
   "cell_type": "markdown",
   "metadata": {},
   "source": [
    "#### Drop unncessary columns "
   ]
  },
  {
   "cell_type": "code",
   "execution_count": 259,
   "metadata": {},
   "outputs": [],
   "source": [
    "clean_companies_df.drop(columns=['homepage_url'], axis=1, inplace=True)"
   ]
  },
  {
   "cell_type": "code",
   "execution_count": 260,
   "metadata": {
    "scrolled": true
   },
   "outputs": [
    {
     "data": {
      "text/plain": [
       "operating    53008\n",
       "closed        6235\n",
       "acquired      5548\n",
       "ipo           1547\n",
       "Name: status, dtype: int64"
      ]
     },
     "execution_count": 260,
     "metadata": {},
     "output_type": "execute_result"
    }
   ],
   "source": [
    "clean_companies_df.status.value_counts()"
   ]
  },
  {
   "cell_type": "code",
   "execution_count": 84,
   "metadata": {},
   "outputs": [
    {
     "data": {
      "text/html": [
       "<div>\n",
       "<style scoped>\n",
       "    .dataframe tbody tr th:only-of-type {\n",
       "        vertical-align: middle;\n",
       "    }\n",
       "\n",
       "    .dataframe tbody tr th {\n",
       "        vertical-align: top;\n",
       "    }\n",
       "\n",
       "    .dataframe thead th {\n",
       "        text-align: right;\n",
       "    }\n",
       "</style>\n",
       "<table border=\"1\" class=\"dataframe\">\n",
       "  <thead>\n",
       "    <tr style=\"text-align: right;\">\n",
       "      <th></th>\n",
       "      <th>permalink</th>\n",
       "      <th>name</th>\n",
       "      <th>category_list</th>\n",
       "      <th>funding_total_usd</th>\n",
       "      <th>status</th>\n",
       "      <th>country_code</th>\n",
       "      <th>state_code</th>\n",
       "      <th>region</th>\n",
       "      <th>city</th>\n",
       "      <th>funding_rounds</th>\n",
       "      <th>founded_at</th>\n",
       "      <th>first_funding_at</th>\n",
       "      <th>last_funding_at</th>\n",
       "    </tr>\n",
       "  </thead>\n",
       "  <tbody>\n",
       "    <tr>\n",
       "      <th>20</th>\n",
       "      <td>/organization/1000-markets</td>\n",
       "      <td>1000 Markets</td>\n",
       "      <td>Art|E-Commerce|Marketplaces</td>\n",
       "      <td>500000.0</td>\n",
       "      <td>acquired</td>\n",
       "      <td>USA</td>\n",
       "      <td>WA</td>\n",
       "      <td>Seattle</td>\n",
       "      <td>Seattle</td>\n",
       "      <td>1</td>\n",
       "      <td>2009-01-01</td>\n",
       "      <td>2009-05-15</td>\n",
       "      <td>2009-05-15</td>\n",
       "    </tr>\n",
       "    <tr>\n",
       "      <th>23</th>\n",
       "      <td>/organization/1000memories</td>\n",
       "      <td>1000memories</td>\n",
       "      <td>Curated Web</td>\n",
       "      <td>2535000.0</td>\n",
       "      <td>acquired</td>\n",
       "      <td>USA</td>\n",
       "      <td>CA</td>\n",
       "      <td>SF Bay Area</td>\n",
       "      <td>San Francisco</td>\n",
       "      <td>2</td>\n",
       "      <td>2010-07-01</td>\n",
       "      <td>2010-01-01</td>\n",
       "      <td>2011-02-16</td>\n",
       "    </tr>\n",
       "    <tr>\n",
       "      <th>31</th>\n",
       "      <td>/organization/100plus</td>\n",
       "      <td>100Plus</td>\n",
       "      <td>Analytics</td>\n",
       "      <td>1250000.0</td>\n",
       "      <td>acquired</td>\n",
       "      <td>USA</td>\n",
       "      <td>CA</td>\n",
       "      <td>SF Bay Area</td>\n",
       "      <td>San Francisco</td>\n",
       "      <td>2</td>\n",
       "      <td>2011-09-16</td>\n",
       "      <td>2011-11-02</td>\n",
       "      <td>2011-11-30</td>\n",
       "    </tr>\n",
       "    <tr>\n",
       "      <th>32</th>\n",
       "      <td>/organization/1010data</td>\n",
       "      <td>1010data</td>\n",
       "      <td>Software</td>\n",
       "      <td>35000000.0</td>\n",
       "      <td>acquired</td>\n",
       "      <td>USA</td>\n",
       "      <td>NY</td>\n",
       "      <td>New York City</td>\n",
       "      <td>New York</td>\n",
       "      <td>1</td>\n",
       "      <td>2000-01-01</td>\n",
       "      <td>2010-03-08</td>\n",
       "      <td>2010-03-08</td>\n",
       "    </tr>\n",
       "    <tr>\n",
       "      <th>58</th>\n",
       "      <td>/organization/123people</td>\n",
       "      <td>yelster digital gmbh (former 123people)</td>\n",
       "      <td>Local Search|Software|Web Design</td>\n",
       "      <td>0.0</td>\n",
       "      <td>acquired</td>\n",
       "      <td>AUT</td>\n",
       "      <td>9</td>\n",
       "      <td>Vienna</td>\n",
       "      <td>Vienna</td>\n",
       "      <td>1</td>\n",
       "      <td>2007-01-01</td>\n",
       "      <td>2008-01-01</td>\n",
       "      <td>2008-01-01</td>\n",
       "    </tr>\n",
       "    <tr>\n",
       "      <th>...</th>\n",
       "      <td>...</td>\n",
       "      <td>...</td>\n",
       "      <td>...</td>\n",
       "      <td>...</td>\n",
       "      <td>...</td>\n",
       "      <td>...</td>\n",
       "      <td>...</td>\n",
       "      <td>...</td>\n",
       "      <td>...</td>\n",
       "      <td>...</td>\n",
       "      <td>...</td>\n",
       "      <td>...</td>\n",
       "      <td>...</td>\n",
       "    </tr>\n",
       "    <tr>\n",
       "      <th>66316</th>\n",
       "      <td>/organization/zuuka</td>\n",
       "      <td>zuuka!</td>\n",
       "      <td>Apps|Entertainment|Kids|Mobile|Publishing</td>\n",
       "      <td>0.0</td>\n",
       "      <td>acquired</td>\n",
       "      <td>USA</td>\n",
       "      <td>CA</td>\n",
       "      <td>Santa Barbara</td>\n",
       "      <td>Santa Barbara</td>\n",
       "      <td>2</td>\n",
       "      <td>2009-04-10</td>\n",
       "      <td>2011-01-24</td>\n",
       "      <td>2012-06-11</td>\n",
       "    </tr>\n",
       "    <tr>\n",
       "      <th>66321</th>\n",
       "      <td>/organization/zvents</td>\n",
       "      <td>Zvents</td>\n",
       "      <td>Concerts|Curated Web|Entertainment|Events|Kids...</td>\n",
       "      <td>55200000.0</td>\n",
       "      <td>acquired</td>\n",
       "      <td>USA</td>\n",
       "      <td>CA</td>\n",
       "      <td>SF Bay Area</td>\n",
       "      <td>San Mateo</td>\n",
       "      <td>4</td>\n",
       "      <td>2005-03-01</td>\n",
       "      <td>2005-10-05</td>\n",
       "      <td>2011-09-30</td>\n",
       "    </tr>\n",
       "    <tr>\n",
       "      <th>66336</th>\n",
       "      <td>/organization/zygo-corporation</td>\n",
       "      <td>Zygo Corporation</td>\n",
       "      <td>Manufacturing</td>\n",
       "      <td>9000000.0</td>\n",
       "      <td>acquired</td>\n",
       "      <td>USA</td>\n",
       "      <td>CT</td>\n",
       "      <td>CT - Other</td>\n",
       "      <td>Middlefield</td>\n",
       "      <td>1</td>\n",
       "      <td>NaN</td>\n",
       "      <td>2011-10-24</td>\n",
       "      <td>2011-10-24</td>\n",
       "    </tr>\n",
       "    <tr>\n",
       "      <th>66349</th>\n",
       "      <td>/organization/zyncro</td>\n",
       "      <td>Zyncro</td>\n",
       "      <td>Cloud Computing|Enterprise 2.0|Enterprise Soft...</td>\n",
       "      <td>3805520.0</td>\n",
       "      <td>acquired</td>\n",
       "      <td>ESP</td>\n",
       "      <td>56</td>\n",
       "      <td>Barcelona</td>\n",
       "      <td>Barcelona</td>\n",
       "      <td>2</td>\n",
       "      <td>2009-09-01</td>\n",
       "      <td>2011-04-05</td>\n",
       "      <td>2012-02-03</td>\n",
       "    </tr>\n",
       "    <tr>\n",
       "      <th>66352</th>\n",
       "      <td>/organization/zynga</td>\n",
       "      <td>Zynga</td>\n",
       "      <td>Facebook Applications|Games|Networking|Technology</td>\n",
       "      <td>866550786.0</td>\n",
       "      <td>ipo</td>\n",
       "      <td>USA</td>\n",
       "      <td>CA</td>\n",
       "      <td>SF Bay Area</td>\n",
       "      <td>San Francisco</td>\n",
       "      <td>9</td>\n",
       "      <td>2007-07-01</td>\n",
       "      <td>2007-01-01</td>\n",
       "      <td>2011-02-18</td>\n",
       "    </tr>\n",
       "  </tbody>\n",
       "</table>\n",
       "<p>3678 rows × 13 columns</p>\n",
       "</div>"
      ],
      "text/plain": [
       "                            permalink  \\\n",
       "20         /organization/1000-markets   \n",
       "23         /organization/1000memories   \n",
       "31              /organization/100plus   \n",
       "32             /organization/1010data   \n",
       "58            /organization/123people   \n",
       "...                               ...   \n",
       "66316             /organization/zuuka   \n",
       "66321            /organization/zvents   \n",
       "66336  /organization/zygo-corporation   \n",
       "66349            /organization/zyncro   \n",
       "66352             /organization/zynga   \n",
       "\n",
       "                                          name  \\\n",
       "20                                1000 Markets   \n",
       "23                                1000memories   \n",
       "31                                     100Plus   \n",
       "32                                    1010data   \n",
       "58     yelster digital gmbh (former 123people)   \n",
       "...                                        ...   \n",
       "66316                                   zuuka!   \n",
       "66321                                   Zvents   \n",
       "66336                         Zygo Corporation   \n",
       "66349                                   Zyncro   \n",
       "66352                                    Zynga   \n",
       "\n",
       "                                           category_list  funding_total_usd  \\\n",
       "20                           Art|E-Commerce|Marketplaces           500000.0   \n",
       "23                                           Curated Web          2535000.0   \n",
       "31                                             Analytics          1250000.0   \n",
       "32                                              Software         35000000.0   \n",
       "58                      Local Search|Software|Web Design                0.0   \n",
       "...                                                  ...                ...   \n",
       "66316          Apps|Entertainment|Kids|Mobile|Publishing                0.0   \n",
       "66321  Concerts|Curated Web|Entertainment|Events|Kids...         55200000.0   \n",
       "66336                                      Manufacturing          9000000.0   \n",
       "66349  Cloud Computing|Enterprise 2.0|Enterprise Soft...          3805520.0   \n",
       "66352  Facebook Applications|Games|Networking|Technology        866550786.0   \n",
       "\n",
       "         status country_code state_code         region           city  \\\n",
       "20     acquired          USA         WA        Seattle        Seattle   \n",
       "23     acquired          USA         CA    SF Bay Area  San Francisco   \n",
       "31     acquired          USA         CA    SF Bay Area  San Francisco   \n",
       "32     acquired          USA         NY  New York City       New York   \n",
       "58     acquired          AUT          9         Vienna         Vienna   \n",
       "...         ...          ...        ...            ...            ...   \n",
       "66316  acquired          USA         CA  Santa Barbara  Santa Barbara   \n",
       "66321  acquired          USA         CA    SF Bay Area      San Mateo   \n",
       "66336  acquired          USA         CT     CT - Other    Middlefield   \n",
       "66349  acquired          ESP         56      Barcelona      Barcelona   \n",
       "66352       ipo          USA         CA    SF Bay Area  San Francisco   \n",
       "\n",
       "       funding_rounds  founded_at first_funding_at last_funding_at  \n",
       "20                  1  2009-01-01       2009-05-15      2009-05-15  \n",
       "23                  2  2010-07-01       2010-01-01      2011-02-16  \n",
       "31                  2  2011-09-16       2011-11-02      2011-11-30  \n",
       "32                  1  2000-01-01       2010-03-08      2010-03-08  \n",
       "58                  1  2007-01-01       2008-01-01      2008-01-01  \n",
       "...               ...         ...              ...             ...  \n",
       "66316               2  2009-04-10       2011-01-24      2012-06-11  \n",
       "66321               4  2005-03-01       2005-10-05      2011-09-30  \n",
       "66336               1         NaN       2011-10-24      2011-10-24  \n",
       "66349               2  2009-09-01       2011-04-05      2012-02-03  \n",
       "66352               9  2007-07-01       2007-01-01      2011-02-18  \n",
       "\n",
       "[3678 rows x 13 columns]"
      ]
     },
     "execution_count": 84,
     "metadata": {},
     "output_type": "execute_result"
    }
   ],
   "source": [
    "# See how many companies exited (acquired or IPO'd) more than 3 years ago\n",
    "clean_companies_df[np.logical_and(\n",
    "    np.logical_and(clean_companies_df.last_funding_at < pd.to_datetime('2013'),\n",
    "                   clean_companies_df.first_funding_at > '2005'),\n",
    "    np.logical_or(clean_companies_df.status == 'ipo',\n",
    "                   clean_companies_df.status == 'acquired'))]"
   ]
  },
  {
   "cell_type": "code",
   "execution_count": 85,
   "metadata": {},
   "outputs": [
    {
     "data": {
      "text/html": [
       "<div>\n",
       "<style scoped>\n",
       "    .dataframe tbody tr th:only-of-type {\n",
       "        vertical-align: middle;\n",
       "    }\n",
       "\n",
       "    .dataframe tbody tr th {\n",
       "        vertical-align: top;\n",
       "    }\n",
       "\n",
       "    .dataframe thead th {\n",
       "        text-align: right;\n",
       "    }\n",
       "</style>\n",
       "<table border=\"1\" class=\"dataframe\">\n",
       "  <thead>\n",
       "    <tr style=\"text-align: right;\">\n",
       "      <th></th>\n",
       "      <th>permalink</th>\n",
       "      <th>name</th>\n",
       "      <th>category_list</th>\n",
       "      <th>funding_total_usd</th>\n",
       "      <th>status</th>\n",
       "      <th>country_code</th>\n",
       "      <th>state_code</th>\n",
       "      <th>region</th>\n",
       "      <th>city</th>\n",
       "      <th>funding_rounds</th>\n",
       "      <th>founded_at</th>\n",
       "      <th>first_funding_at</th>\n",
       "      <th>last_funding_at</th>\n",
       "    </tr>\n",
       "  </thead>\n",
       "  <tbody>\n",
       "    <tr>\n",
       "      <th>3</th>\n",
       "      <td>/organization/0-6-com</td>\n",
       "      <td>0-6.com</td>\n",
       "      <td>Curated Web</td>\n",
       "      <td>2000000.0</td>\n",
       "      <td>operating</td>\n",
       "      <td>CHN</td>\n",
       "      <td>22</td>\n",
       "      <td>Beijing</td>\n",
       "      <td>Beijing</td>\n",
       "      <td>1</td>\n",
       "      <td>2007-01-01</td>\n",
       "      <td>2008-03-19</td>\n",
       "      <td>2008-03-19</td>\n",
       "    </tr>\n",
       "    <tr>\n",
       "      <th>6</th>\n",
       "      <td>/organization/0ndine-biomedical-inc</td>\n",
       "      <td>Ondine Biomedical Inc.</td>\n",
       "      <td>Biotechnology</td>\n",
       "      <td>762851.0</td>\n",
       "      <td>operating</td>\n",
       "      <td>CAN</td>\n",
       "      <td>BC</td>\n",
       "      <td>Vancouver</td>\n",
       "      <td>Vancouver</td>\n",
       "      <td>2</td>\n",
       "      <td>1997-01-01</td>\n",
       "      <td>2009-09-11</td>\n",
       "      <td>2009-12-21</td>\n",
       "    </tr>\n",
       "    <tr>\n",
       "      <th>12</th>\n",
       "      <td>/organization/1-800-dentist</td>\n",
       "      <td>1-800-DENTIST</td>\n",
       "      <td>Health and Wellness</td>\n",
       "      <td>0.0</td>\n",
       "      <td>operating</td>\n",
       "      <td>USA</td>\n",
       "      <td>CA</td>\n",
       "      <td>Los Angeles</td>\n",
       "      <td>Los Angeles</td>\n",
       "      <td>1</td>\n",
       "      <td>1986-01-01</td>\n",
       "      <td>2010-08-19</td>\n",
       "      <td>2010-08-19</td>\n",
       "    </tr>\n",
       "    <tr>\n",
       "      <th>13</th>\n",
       "      <td>/organization/1-800-doctors</td>\n",
       "      <td>1-800-DOCTORS</td>\n",
       "      <td>Health and Wellness</td>\n",
       "      <td>1750000.0</td>\n",
       "      <td>operating</td>\n",
       "      <td>USA</td>\n",
       "      <td>NJ</td>\n",
       "      <td>Newark</td>\n",
       "      <td>Iselin</td>\n",
       "      <td>1</td>\n",
       "      <td>1984-01-01</td>\n",
       "      <td>2011-03-02</td>\n",
       "      <td>2011-03-02</td>\n",
       "    </tr>\n",
       "    <tr>\n",
       "      <th>17</th>\n",
       "      <td>/organization/10-20-media</td>\n",
       "      <td>10-20 Media</td>\n",
       "      <td>E-Commerce</td>\n",
       "      <td>2050000.0</td>\n",
       "      <td>operating</td>\n",
       "      <td>USA</td>\n",
       "      <td>MD</td>\n",
       "      <td>Baltimore</td>\n",
       "      <td>Woodbine</td>\n",
       "      <td>4</td>\n",
       "      <td>2001-01-01</td>\n",
       "      <td>2009-06-18</td>\n",
       "      <td>2011-12-28</td>\n",
       "    </tr>\n",
       "    <tr>\n",
       "      <th>...</th>\n",
       "      <td>...</td>\n",
       "      <td>...</td>\n",
       "      <td>...</td>\n",
       "      <td>...</td>\n",
       "      <td>...</td>\n",
       "      <td>...</td>\n",
       "      <td>...</td>\n",
       "      <td>...</td>\n",
       "      <td>...</td>\n",
       "      <td>...</td>\n",
       "      <td>...</td>\n",
       "      <td>...</td>\n",
       "      <td>...</td>\n",
       "    </tr>\n",
       "    <tr>\n",
       "      <th>66339</th>\n",
       "      <td>/organization/zylie-the-bear</td>\n",
       "      <td>Zylie the Bear</td>\n",
       "      <td>E-Commerce</td>\n",
       "      <td>75000.0</td>\n",
       "      <td>operating</td>\n",
       "      <td>USA</td>\n",
       "      <td>CT</td>\n",
       "      <td>Hartford</td>\n",
       "      <td>Greenwich</td>\n",
       "      <td>1</td>\n",
       "      <td>2009-01-01</td>\n",
       "      <td>2012-06-07</td>\n",
       "      <td>2012-06-07</td>\n",
       "    </tr>\n",
       "    <tr>\n",
       "      <th>66346</th>\n",
       "      <td>/organization/zympi</td>\n",
       "      <td>Zympi</td>\n",
       "      <td>Mobile|Networking|Web Hosting</td>\n",
       "      <td>0.0</td>\n",
       "      <td>operating</td>\n",
       "      <td>USA</td>\n",
       "      <td>CA</td>\n",
       "      <td>Ontario - Inland Empire</td>\n",
       "      <td>Redlands</td>\n",
       "      <td>1</td>\n",
       "      <td>2010-09-03</td>\n",
       "      <td>2011-11-22</td>\n",
       "      <td>2011-11-22</td>\n",
       "    </tr>\n",
       "    <tr>\n",
       "      <th>66353</th>\n",
       "      <td>/organization/zyngenia</td>\n",
       "      <td>Zyngenia</td>\n",
       "      <td>Biotechnology</td>\n",
       "      <td>25000000.0</td>\n",
       "      <td>operating</td>\n",
       "      <td>USA</td>\n",
       "      <td>MD</td>\n",
       "      <td>Washington, D.C.</td>\n",
       "      <td>Gaithersburg</td>\n",
       "      <td>1</td>\n",
       "      <td>2008-01-01</td>\n",
       "      <td>2010-09-09</td>\n",
       "      <td>2010-09-09</td>\n",
       "    </tr>\n",
       "    <tr>\n",
       "      <th>66359</th>\n",
       "      <td>/organization/zyrra</td>\n",
       "      <td>Zyrra</td>\n",
       "      <td>E-Commerce</td>\n",
       "      <td>1510500.0</td>\n",
       "      <td>operating</td>\n",
       "      <td>USA</td>\n",
       "      <td>MA</td>\n",
       "      <td>Boston</td>\n",
       "      <td>Cambridge</td>\n",
       "      <td>4</td>\n",
       "      <td>NaN</td>\n",
       "      <td>2010-10-21</td>\n",
       "      <td>2012-10-18</td>\n",
       "    </tr>\n",
       "    <tr>\n",
       "      <th>66363</th>\n",
       "      <td>/organization/zznode-science-and-technology-co...</td>\n",
       "      <td>ZZNode Science and Technology</td>\n",
       "      <td>Enterprise Software</td>\n",
       "      <td>1587301.0</td>\n",
       "      <td>operating</td>\n",
       "      <td>CHN</td>\n",
       "      <td>22</td>\n",
       "      <td>Beijing</td>\n",
       "      <td>Beijing</td>\n",
       "      <td>1</td>\n",
       "      <td>NaN</td>\n",
       "      <td>2012-04-01</td>\n",
       "      <td>2012-04-01</td>\n",
       "    </tr>\n",
       "  </tbody>\n",
       "</table>\n",
       "<p>16531 rows × 13 columns</p>\n",
       "</div>"
      ],
      "text/plain": [
       "                                               permalink  \\\n",
       "3                                  /organization/0-6-com   \n",
       "6                    /organization/0ndine-biomedical-inc   \n",
       "12                           /organization/1-800-dentist   \n",
       "13                           /organization/1-800-doctors   \n",
       "17                             /organization/10-20-media   \n",
       "...                                                  ...   \n",
       "66339                       /organization/zylie-the-bear   \n",
       "66346                                /organization/zympi   \n",
       "66353                             /organization/zyngenia   \n",
       "66359                                /organization/zyrra   \n",
       "66363  /organization/zznode-science-and-technology-co...   \n",
       "\n",
       "                                name                  category_list  \\\n",
       "3                            0-6.com                    Curated Web   \n",
       "6             Ondine Biomedical Inc.                  Biotechnology   \n",
       "12                     1-800-DENTIST            Health and Wellness   \n",
       "13                     1-800-DOCTORS            Health and Wellness   \n",
       "17                       10-20 Media                     E-Commerce   \n",
       "...                              ...                            ...   \n",
       "66339                 Zylie the Bear                     E-Commerce   \n",
       "66346                          Zympi  Mobile|Networking|Web Hosting   \n",
       "66353                       Zyngenia                  Biotechnology   \n",
       "66359                          Zyrra                     E-Commerce   \n",
       "66363  ZZNode Science and Technology            Enterprise Software   \n",
       "\n",
       "       funding_total_usd     status country_code state_code  \\\n",
       "3              2000000.0  operating          CHN         22   \n",
       "6               762851.0  operating          CAN         BC   \n",
       "12                   0.0  operating          USA         CA   \n",
       "13             1750000.0  operating          USA         NJ   \n",
       "17             2050000.0  operating          USA         MD   \n",
       "...                  ...        ...          ...        ...   \n",
       "66339            75000.0  operating          USA         CT   \n",
       "66346                0.0  operating          USA         CA   \n",
       "66353         25000000.0  operating          USA         MD   \n",
       "66359          1510500.0  operating          USA         MA   \n",
       "66363          1587301.0  operating          CHN         22   \n",
       "\n",
       "                        region          city  funding_rounds  founded_at  \\\n",
       "3                      Beijing       Beijing               1  2007-01-01   \n",
       "6                    Vancouver     Vancouver               2  1997-01-01   \n",
       "12                 Los Angeles   Los Angeles               1  1986-01-01   \n",
       "13                      Newark        Iselin               1  1984-01-01   \n",
       "17                   Baltimore      Woodbine               4  2001-01-01   \n",
       "...                        ...           ...             ...         ...   \n",
       "66339                 Hartford     Greenwich               1  2009-01-01   \n",
       "66346  Ontario - Inland Empire      Redlands               1  2010-09-03   \n",
       "66353         Washington, D.C.  Gaithersburg               1  2008-01-01   \n",
       "66359                   Boston     Cambridge               4         NaN   \n",
       "66363                  Beijing       Beijing               1         NaN   \n",
       "\n",
       "      first_funding_at last_funding_at  \n",
       "3           2008-03-19      2008-03-19  \n",
       "6           2009-09-11      2009-12-21  \n",
       "12          2010-08-19      2010-08-19  \n",
       "13          2011-03-02      2011-03-02  \n",
       "17          2009-06-18      2011-12-28  \n",
       "...                ...             ...  \n",
       "66339       2012-06-07      2012-06-07  \n",
       "66346       2011-11-22      2011-11-22  \n",
       "66353       2010-09-09      2010-09-09  \n",
       "66359       2010-10-21      2012-10-18  \n",
       "66363       2012-04-01      2012-04-01  \n",
       "\n",
       "[16531 rows x 13 columns]"
      ]
     },
     "execution_count": 85,
     "metadata": {},
     "output_type": "execute_result"
    }
   ],
   "source": [
    "# See how many operating companies were last funded more than 3 years ago\n",
    "clean_companies_df[np.logical_and(\n",
    "    np.logical_and(clean_companies_df.last_funding_at < pd.to_datetime('2013'),\n",
    "                   clean_companies_df.first_funding_at > '2005'),\n",
    "    clean_companies_df.status == 'operating')]"
   ]
  },
  {
   "cell_type": "code",
   "execution_count": 86,
   "metadata": {},
   "outputs": [
    {
     "data": {
      "text/html": [
       "<div>\n",
       "<style scoped>\n",
       "    .dataframe tbody tr th:only-of-type {\n",
       "        vertical-align: middle;\n",
       "    }\n",
       "\n",
       "    .dataframe tbody tr th {\n",
       "        vertical-align: top;\n",
       "    }\n",
       "\n",
       "    .dataframe thead th {\n",
       "        text-align: right;\n",
       "    }\n",
       "</style>\n",
       "<table border=\"1\" class=\"dataframe\">\n",
       "  <thead>\n",
       "    <tr style=\"text-align: right;\">\n",
       "      <th></th>\n",
       "      <th>permalink</th>\n",
       "      <th>name</th>\n",
       "      <th>category_list</th>\n",
       "      <th>funding_total_usd</th>\n",
       "      <th>status</th>\n",
       "      <th>country_code</th>\n",
       "      <th>state_code</th>\n",
       "      <th>region</th>\n",
       "      <th>city</th>\n",
       "      <th>funding_rounds</th>\n",
       "      <th>founded_at</th>\n",
       "      <th>first_funding_at</th>\n",
       "      <th>last_funding_at</th>\n",
       "    </tr>\n",
       "  </thead>\n",
       "  <tbody>\n",
       "    <tr>\n",
       "      <th>34</th>\n",
       "      <td>/organization/10bestthings</td>\n",
       "      <td>10BestThings</td>\n",
       "      <td>Curated Web</td>\n",
       "      <td>50000.0</td>\n",
       "      <td>closed</td>\n",
       "      <td>USA</td>\n",
       "      <td>OH</td>\n",
       "      <td>Cleveland</td>\n",
       "      <td>Cleveland</td>\n",
       "      <td>1</td>\n",
       "      <td>2009-04-01</td>\n",
       "      <td>2009-04-01</td>\n",
       "      <td>2009-04-01</td>\n",
       "    </tr>\n",
       "    <tr>\n",
       "      <th>47</th>\n",
       "      <td>/organization/11i-solutions</td>\n",
       "      <td>11i Solutions</td>\n",
       "      <td>Enterprise Software</td>\n",
       "      <td>1800000.0</td>\n",
       "      <td>closed</td>\n",
       "      <td>USA</td>\n",
       "      <td>AL</td>\n",
       "      <td>Huntsville</td>\n",
       "      <td>Huntsville</td>\n",
       "      <td>1</td>\n",
       "      <td>NaN</td>\n",
       "      <td>2011-03-22</td>\n",
       "      <td>2011-03-22</td>\n",
       "    </tr>\n",
       "    <tr>\n",
       "      <th>76</th>\n",
       "      <td>/organization/169-st</td>\n",
       "      <td>169 ST.</td>\n",
       "      <td>Entertainment|Games</td>\n",
       "      <td>50000.0</td>\n",
       "      <td>closed</td>\n",
       "      <td>USA</td>\n",
       "      <td>FL</td>\n",
       "      <td>Orlando</td>\n",
       "      <td>Lake Mary</td>\n",
       "      <td>1</td>\n",
       "      <td>2009-05-15</td>\n",
       "      <td>2009-06-01</td>\n",
       "      <td>2009-06-01</td>\n",
       "    </tr>\n",
       "    <tr>\n",
       "      <th>88</th>\n",
       "      <td>/organization/1bib</td>\n",
       "      <td>1bib</td>\n",
       "      <td>Cars|Curated Web</td>\n",
       "      <td>0.0</td>\n",
       "      <td>closed</td>\n",
       "      <td>CHN</td>\n",
       "      <td>30</td>\n",
       "      <td>Guangzhou</td>\n",
       "      <td>Guangzhou</td>\n",
       "      <td>1</td>\n",
       "      <td>2006-01-01</td>\n",
       "      <td>2008-02-07</td>\n",
       "      <td>2008-02-07</td>\n",
       "    </tr>\n",
       "    <tr>\n",
       "      <th>89</th>\n",
       "      <td>/organization/1bog</td>\n",
       "      <td>One Block Off the Grid (1BOG)</td>\n",
       "      <td>Clean Technology|Residential Solar</td>\n",
       "      <td>5000000.0</td>\n",
       "      <td>closed</td>\n",
       "      <td>USA</td>\n",
       "      <td>CA</td>\n",
       "      <td>SF Bay Area</td>\n",
       "      <td>San Francisco</td>\n",
       "      <td>1</td>\n",
       "      <td>2008-11-01</td>\n",
       "      <td>2010-02-11</td>\n",
       "      <td>2010-02-11</td>\n",
       "    </tr>\n",
       "    <tr>\n",
       "      <th>...</th>\n",
       "      <td>...</td>\n",
       "      <td>...</td>\n",
       "      <td>...</td>\n",
       "      <td>...</td>\n",
       "      <td>...</td>\n",
       "      <td>...</td>\n",
       "      <td>...</td>\n",
       "      <td>...</td>\n",
       "      <td>...</td>\n",
       "      <td>...</td>\n",
       "      <td>...</td>\n",
       "      <td>...</td>\n",
       "      <td>...</td>\n",
       "    </tr>\n",
       "    <tr>\n",
       "      <th>66315</th>\n",
       "      <td>/organization/zuujit</td>\n",
       "      <td>Zuujit</td>\n",
       "      <td>E-Commerce</td>\n",
       "      <td>2700000.0</td>\n",
       "      <td>closed</td>\n",
       "      <td>USA</td>\n",
       "      <td>CA</td>\n",
       "      <td>Santa Barbara</td>\n",
       "      <td>Santa Barbara</td>\n",
       "      <td>1</td>\n",
       "      <td>2010-01-01</td>\n",
       "      <td>2010-04-30</td>\n",
       "      <td>2010-04-30</td>\n",
       "    </tr>\n",
       "    <tr>\n",
       "      <th>66318</th>\n",
       "      <td>/organization/zuvvu</td>\n",
       "      <td>Zuvvu</td>\n",
       "      <td>Advertising|Social Media Advertising|Social Me...</td>\n",
       "      <td>12000.0</td>\n",
       "      <td>closed</td>\n",
       "      <td>IND</td>\n",
       "      <td>9</td>\n",
       "      <td>Ahmedabad</td>\n",
       "      <td>Ahmadabad</td>\n",
       "      <td>1</td>\n",
       "      <td>2010-06-01</td>\n",
       "      <td>2011-11-01</td>\n",
       "      <td>2011-11-01</td>\n",
       "    </tr>\n",
       "    <tr>\n",
       "      <th>66335</th>\n",
       "      <td>/organization/zygo</td>\n",
       "      <td>Zygo Communications</td>\n",
       "      <td>Mobile|SMS</td>\n",
       "      <td>0.0</td>\n",
       "      <td>closed</td>\n",
       "      <td>GBR</td>\n",
       "      <td>H9</td>\n",
       "      <td>London</td>\n",
       "      <td>London</td>\n",
       "      <td>1</td>\n",
       "      <td>2005-06-21</td>\n",
       "      <td>2007-11-19</td>\n",
       "      <td>2007-11-19</td>\n",
       "    </tr>\n",
       "    <tr>\n",
       "      <th>66338</th>\n",
       "      <td>/organization/zykis</td>\n",
       "      <td>Zykis</td>\n",
       "      <td>Automotive|Data Security|Education|Kids|Portal...</td>\n",
       "      <td>800000.0</td>\n",
       "      <td>closed</td>\n",
       "      <td>USA</td>\n",
       "      <td>CA</td>\n",
       "      <td>Anaheim</td>\n",
       "      <td>Irvine</td>\n",
       "      <td>1</td>\n",
       "      <td>2006-10-27</td>\n",
       "      <td>2006-10-27</td>\n",
       "      <td>2006-10-27</td>\n",
       "    </tr>\n",
       "    <tr>\n",
       "      <th>66343</th>\n",
       "      <td>/organization/zymetis</td>\n",
       "      <td>Zymetis</td>\n",
       "      <td>Biotechnology</td>\n",
       "      <td>2257464.0</td>\n",
       "      <td>closed</td>\n",
       "      <td>USA</td>\n",
       "      <td>MD</td>\n",
       "      <td>Washington, D.C.</td>\n",
       "      <td>College Park</td>\n",
       "      <td>3</td>\n",
       "      <td>2006-01-01</td>\n",
       "      <td>2007-01-01</td>\n",
       "      <td>2010-01-31</td>\n",
       "    </tr>\n",
       "  </tbody>\n",
       "</table>\n",
       "<p>3516 rows × 13 columns</p>\n",
       "</div>"
      ],
      "text/plain": [
       "                         permalink                           name  \\\n",
       "34      /organization/10bestthings                   10BestThings   \n",
       "47     /organization/11i-solutions                  11i Solutions   \n",
       "76            /organization/169-st                        169 ST.   \n",
       "88              /organization/1bib                           1bib   \n",
       "89              /organization/1bog  One Block Off the Grid (1BOG)   \n",
       "...                            ...                            ...   \n",
       "66315         /organization/zuujit                         Zuujit   \n",
       "66318          /organization/zuvvu                          Zuvvu   \n",
       "66335           /organization/zygo            Zygo Communications   \n",
       "66338          /organization/zykis                          Zykis   \n",
       "66343        /organization/zymetis                        Zymetis   \n",
       "\n",
       "                                           category_list  funding_total_usd  \\\n",
       "34                                           Curated Web            50000.0   \n",
       "47                                   Enterprise Software          1800000.0   \n",
       "76                                   Entertainment|Games            50000.0   \n",
       "88                                      Cars|Curated Web                0.0   \n",
       "89                    Clean Technology|Residential Solar          5000000.0   \n",
       "...                                                  ...                ...   \n",
       "66315                                         E-Commerce          2700000.0   \n",
       "66318  Advertising|Social Media Advertising|Social Me...            12000.0   \n",
       "66335                                         Mobile|SMS                0.0   \n",
       "66338  Automotive|Data Security|Education|Kids|Portal...           800000.0   \n",
       "66343                                      Biotechnology          2257464.0   \n",
       "\n",
       "       status country_code state_code            region           city  \\\n",
       "34     closed          USA         OH         Cleveland      Cleveland   \n",
       "47     closed          USA         AL        Huntsville     Huntsville   \n",
       "76     closed          USA         FL           Orlando      Lake Mary   \n",
       "88     closed          CHN         30         Guangzhou      Guangzhou   \n",
       "89     closed          USA         CA       SF Bay Area  San Francisco   \n",
       "...       ...          ...        ...               ...            ...   \n",
       "66315  closed          USA         CA     Santa Barbara  Santa Barbara   \n",
       "66318  closed          IND          9         Ahmedabad      Ahmadabad   \n",
       "66335  closed          GBR         H9            London         London   \n",
       "66338  closed          USA         CA           Anaheim         Irvine   \n",
       "66343  closed          USA         MD  Washington, D.C.   College Park   \n",
       "\n",
       "       funding_rounds  founded_at first_funding_at last_funding_at  \n",
       "34                  1  2009-04-01       2009-04-01      2009-04-01  \n",
       "47                  1         NaN       2011-03-22      2011-03-22  \n",
       "76                  1  2009-05-15       2009-06-01      2009-06-01  \n",
       "88                  1  2006-01-01       2008-02-07      2008-02-07  \n",
       "89                  1  2008-11-01       2010-02-11      2010-02-11  \n",
       "...               ...         ...              ...             ...  \n",
       "66315               1  2010-01-01       2010-04-30      2010-04-30  \n",
       "66318               1  2010-06-01       2011-11-01      2011-11-01  \n",
       "66335               1  2005-06-21       2007-11-19      2007-11-19  \n",
       "66338               1  2006-10-27       2006-10-27      2006-10-27  \n",
       "66343               3  2006-01-01       2007-01-01      2010-01-31  \n",
       "\n",
       "[3516 rows x 13 columns]"
      ]
     },
     "execution_count": 86,
     "metadata": {},
     "output_type": "execute_result"
    }
   ],
   "source": [
    "# See how many operating companies were closed more than 3 years ago\n",
    "clean_companies_df[np.logical_and(\n",
    "    np.logical_and(clean_companies_df.last_funding_at < pd.to_datetime('2013'),\n",
    "                   clean_companies_df.first_funding_at > '2005'),\n",
    "    clean_companies_df.status == 'closed')]"
   ]
  },
  {
   "cell_type": "code",
   "execution_count": 291,
   "metadata": {},
   "outputs": [],
   "source": [
    "# Create dataset containing only non-operting companies that closed or were acquired/IPO'd\n",
    "\n",
    "current_date = clean_companies_df.last_funding_at.max()\n",
    "\n",
    "nonoperating_companies_df = clean_companies_df[np.logical_or(\n",
    "    clean_companies_df.status != 'operating',\n",
    "    np.logical_and(\n",
    "        np.logical_and(\n",
    "            clean_companies_df.status == 'operating',\n",
    "            clean_companies_df.first_funding_at >\n",
    "            current_date - pd.offsets.DateOffset(years=10)),\n",
    "        clean_companies_df.last_funding_at < current_date -\n",
    "        pd.offsets.DateOffset(years=2, months=6)))].reset_index()"
   ]
  },
  {
   "cell_type": "code",
   "execution_count": 292,
   "metadata": {},
   "outputs": [],
   "source": [
    "nonoperating_companies_df.drop(columns='index', axis=1, inplace=True)"
   ]
  },
  {
   "cell_type": "code",
   "execution_count": 293,
   "metadata": {},
   "outputs": [
    {
     "data": {
      "text/plain": [
       "(32426, 13)"
      ]
     },
     "execution_count": 293,
     "metadata": {},
     "output_type": "execute_result"
    }
   ],
   "source": [
    "nonoperating_companies_df.shape"
   ]
  },
  {
   "cell_type": "code",
   "execution_count": 294,
   "metadata": {},
   "outputs": [],
   "source": [
    "# Create binary status column where 0 = closed, 1 = aqcquired/IPO'd\n",
    "nonoperating_companies_df['status_bool'] = np.nan\n",
    "\n",
    "# Fill the column\n",
    "nonoperating_companies_df.loc[np.logical_or(\n",
    "    nonoperating_companies_df.status == 'closed', nonoperating_companies_df.\n",
    "    status == 'operating'), 'status_bool'] = 0\n",
    "nonoperating_companies_df.loc[np.logical_or(\n",
    "    nonoperating_companies_df.status == 'ipo', nonoperating_companies_df.status\n",
    "    == 'acquired'), 'status_bool'] = 1"
   ]
  },
  {
   "cell_type": "code",
   "execution_count": 295,
   "metadata": {},
   "outputs": [
    {
     "data": {
      "text/plain": [
       "0.0    25331\n",
       "1.0     7095\n",
       "Name: status_bool, dtype: int64"
      ]
     },
     "execution_count": 295,
     "metadata": {},
     "output_type": "execute_result"
    }
   ],
   "source": [
    "nonoperating_companies_df.status_bool.value_counts()"
   ]
  },
  {
   "cell_type": "code",
   "execution_count": 296,
   "metadata": {},
   "outputs": [
    {
     "data": {
      "text/plain": [
       "6605"
      ]
     },
     "execution_count": 296,
     "metadata": {},
     "output_type": "execute_result"
    }
   ],
   "source": [
    "# Number of companies that don't have funding dollar info\n",
    "(nonoperating_companies_df['funding_total_usd'] == 0.0).sum()"
   ]
  },
  {
   "cell_type": "markdown",
   "metadata": {},
   "source": [
    "### Round Database"
   ]
  },
  {
   "cell_type": "code",
   "execution_count": 93,
   "metadata": {},
   "outputs": [
    {
     "data": {
      "text/plain": [
       "company_permalink           object\n",
       "company_name                object\n",
       "company_category_list       object\n",
       "company_country_code        object\n",
       "company_state_code          object\n",
       "company_region              object\n",
       "company_city                object\n",
       "funding_round_permalink     object\n",
       "funding_round_type          object\n",
       "funding_round_code          object\n",
       "funded_at                   object\n",
       "raised_amount_usd          float64\n",
       "dtype: object"
      ]
     },
     "execution_count": 93,
     "metadata": {},
     "output_type": "execute_result"
    }
   ],
   "source": [
    "rounds_df.dtypes"
   ]
  },
  {
   "cell_type": "code",
   "execution_count": 94,
   "metadata": {},
   "outputs": [
    {
     "data": {
      "text/plain": [
       "(114949, 12)"
      ]
     },
     "execution_count": 94,
     "metadata": {},
     "output_type": "execute_result"
    }
   ],
   "source": [
    "rounds_df.shape"
   ]
  },
  {
   "cell_type": "code",
   "execution_count": 95,
   "metadata": {},
   "outputs": [
    {
     "data": {
      "text/plain": [
       "array(['venture', 'seed', 'undisclosed', 'equity_crowdfunding',\n",
       "       'convertible_note', 'private_equity', 'debt_financing', 'angel',\n",
       "       'grant', 'secondary_market', 'post_ipo_equity', 'post_ipo_debt',\n",
       "       'product_crowdfunding', 'non_equity_assistance'], dtype=object)"
      ]
     },
     "execution_count": 95,
     "metadata": {},
     "output_type": "execute_result"
    }
   ],
   "source": [
    "rounds_df.funding_round_type.unique()"
   ]
  },
  {
   "cell_type": "code",
   "execution_count": 96,
   "metadata": {},
   "outputs": [],
   "source": [
    "# Only interested in pre exit and current funding rounds\n",
    "clean_rounds_df = rounds_df[np.logical_and(\n",
    "    rounds_df.funding_round_type !=  'post_ipo_equity',\n",
    "    rounds_df.funding_round_type != 'post_ipo_debt')]"
   ]
  },
  {
   "cell_type": "code",
   "execution_count": 97,
   "metadata": {},
   "outputs": [
    {
     "data": {
      "text/plain": [
       "(114159, 12)"
      ]
     },
     "execution_count": 97,
     "metadata": {},
     "output_type": "execute_result"
    }
   ],
   "source": [
    "clean_rounds_df.shape"
   ]
  },
  {
   "cell_type": "code",
   "execution_count": 98,
   "metadata": {},
   "outputs": [
    {
     "name": "stderr",
     "output_type": "stream",
     "text": [
      "/Users/jbpatty/anaconda3/envs/metis/lib/python3.8/site-packages/pandas/core/generic.py:5165: SettingWithCopyWarning: \n",
      "A value is trying to be set on a copy of a slice from a DataFrame.\n",
      "Try using .loc[row_indexer,col_indexer] = value instead\n",
      "\n",
      "See the caveats in the documentation: https://pandas.pydata.org/pandas-docs/stable/user_guide/indexing.html#returning-a-view-versus-a-copy\n",
      "  self[name] = value\n"
     ]
    }
   ],
   "source": [
    "clean_rounds_df.funded_at = pd.to_datetime(clean_rounds_df.loc[:, 'funded_at'])"
   ]
  },
  {
   "cell_type": "markdown",
   "metadata": {},
   "source": [
    "#### Average time between funding rounds"
   ]
  },
  {
   "cell_type": "code",
   "execution_count": 99,
   "metadata": {},
   "outputs": [
    {
     "name": "stderr",
     "output_type": "stream",
     "text": [
      "<ipython-input-99-3bdc978b4c0e>:2: SettingWithCopyWarning: \n",
      "A value is trying to be set on a copy of a slice from a DataFrame\n",
      "\n",
      "See the caveats in the documentation: https://pandas.pydata.org/pandas-docs/stable/user_guide/indexing.html#returning-a-view-versus-a-copy\n",
      "  clean_rounds_df.sort_values(by=['company_name', 'funded_at'], ascending=True,inplace=True)\n"
     ]
    }
   ],
   "source": [
    "# Sort rounds by company name and dates\n",
    "clean_rounds_df.sort_values(by=['company_name', 'funded_at'], ascending=True,inplace=True)"
   ]
  },
  {
   "cell_type": "code",
   "execution_count": 100,
   "metadata": {},
   "outputs": [
    {
     "name": "stderr",
     "output_type": "stream",
     "text": [
      "<ipython-input-100-5a4c37da082f>:2: SettingWithCopyWarning: \n",
      "A value is trying to be set on a copy of a slice from a DataFrame.\n",
      "Try using .loc[row_indexer,col_indexer] = value instead\n",
      "\n",
      "See the caveats in the documentation: https://pandas.pydata.org/pandas-docs/stable/user_guide/indexing.html#returning-a-view-versus-a-copy\n",
      "  clean_rounds_df['time_between_next_round'] = clean_rounds_df.groupby('company_name').funded_at.diff()\n"
     ]
    }
   ],
   "source": [
    "# Create column for time between funding rounds\n",
    "clean_rounds_df['time_between_next_round'] = clean_rounds_df.groupby('company_name').funded_at.diff()"
   ]
  },
  {
   "cell_type": "code",
   "execution_count": 101,
   "metadata": {},
   "outputs": [],
   "source": [
    "# Calculate average time between rounds and average amount raised\n",
    "average_round_time_amount = clean_rounds_df.groupby('company_name').agg({\n",
    "    'time_between_next_round': pd.Series.mean,\n",
    "    'raised_amount_usd' : 'mean'\n",
    "}).rename(columns = {\n",
    "         'time_between_next_round' : 'avg_time_between_rounds',\n",
    "         'raised_amount_usd' : 'avg_raised_usd'\n",
    "          }).reset_index()"
   ]
  },
  {
   "cell_type": "code",
   "execution_count": 297,
   "metadata": {},
   "outputs": [],
   "source": [
    "# Merge into nonoperating companies df\n",
    "nonoperating_companies_df = nonoperating_companies_df.merge(\n",
    "                             average_round_time_amount, how='left', left_on='name', right_on='company_name')"
   ]
  },
  {
   "cell_type": "code",
   "execution_count": 298,
   "metadata": {},
   "outputs": [
    {
     "data": {
      "text/html": [
       "<div>\n",
       "<style scoped>\n",
       "    .dataframe tbody tr th:only-of-type {\n",
       "        vertical-align: middle;\n",
       "    }\n",
       "\n",
       "    .dataframe tbody tr th {\n",
       "        vertical-align: top;\n",
       "    }\n",
       "\n",
       "    .dataframe thead th {\n",
       "        text-align: right;\n",
       "    }\n",
       "</style>\n",
       "<table border=\"1\" class=\"dataframe\">\n",
       "  <thead>\n",
       "    <tr style=\"text-align: right;\">\n",
       "      <th></th>\n",
       "      <th>company_name</th>\n",
       "      <th>avg_time_between_rounds</th>\n",
       "      <th>avg_raised_usd</th>\n",
       "    </tr>\n",
       "  </thead>\n",
       "  <tbody>\n",
       "    <tr>\n",
       "      <th>0</th>\n",
       "      <td>#BratPackStyle, LLC.</td>\n",
       "      <td>NaT</td>\n",
       "      <td>NaN</td>\n",
       "    </tr>\n",
       "    <tr>\n",
       "      <th>1</th>\n",
       "      <td>#HASHOFF</td>\n",
       "      <td>246 days</td>\n",
       "      <td>477500.0</td>\n",
       "    </tr>\n",
       "    <tr>\n",
       "      <th>2</th>\n",
       "      <td>#fame</td>\n",
       "      <td>NaT</td>\n",
       "      <td>10000000.0</td>\n",
       "    </tr>\n",
       "    <tr>\n",
       "      <th>3</th>\n",
       "      <td>#waywire</td>\n",
       "      <td>NaT</td>\n",
       "      <td>1750000.0</td>\n",
       "    </tr>\n",
       "    <tr>\n",
       "      <th>4</th>\n",
       "      <td>&amp;TV Communications</td>\n",
       "      <td>111 days</td>\n",
       "      <td>2000000.0</td>\n",
       "    </tr>\n",
       "    <tr>\n",
       "      <th>...</th>\n",
       "      <td>...</td>\n",
       "      <td>...</td>\n",
       "      <td>...</td>\n",
       "    </tr>\n",
       "    <tr>\n",
       "      <th>65832</th>\n",
       "      <td>İş kutusu video ajansı</td>\n",
       "      <td>NaT</td>\n",
       "      <td>100000.0</td>\n",
       "    </tr>\n",
       "    <tr>\n",
       "      <th>65833</th>\n",
       "      <td>Еnso.fm</td>\n",
       "      <td>NaT</td>\n",
       "      <td>27838.0</td>\n",
       "    </tr>\n",
       "    <tr>\n",
       "      <th>65834</th>\n",
       "      <td>​Shwrüm</td>\n",
       "      <td>NaT</td>\n",
       "      <td>50000.0</td>\n",
       "    </tr>\n",
       "    <tr>\n",
       "      <th>65835</th>\n",
       "      <td>​WestEd</td>\n",
       "      <td>NaT</td>\n",
       "      <td>3000000.0</td>\n",
       "    </tr>\n",
       "    <tr>\n",
       "      <th>65836</th>\n",
       "      <td>吃神马 ChiShenMa</td>\n",
       "      <td>NaT</td>\n",
       "      <td>NaN</td>\n",
       "    </tr>\n",
       "  </tbody>\n",
       "</table>\n",
       "<p>65837 rows × 3 columns</p>\n",
       "</div>"
      ],
      "text/plain": [
       "                 company_name avg_time_between_rounds  avg_raised_usd\n",
       "0        #BratPackStyle, LLC.                     NaT             NaN\n",
       "1                    #HASHOFF                246 days        477500.0\n",
       "2                       #fame                     NaT      10000000.0\n",
       "3                    #waywire                     NaT       1750000.0\n",
       "4          &TV Communications                111 days       2000000.0\n",
       "...                       ...                     ...             ...\n",
       "65832  İş kutusu video ajansı                     NaT        100000.0\n",
       "65833                 Еnso.fm                     NaT         27838.0\n",
       "65834                 ​Shwrüm                     NaT         50000.0\n",
       "65835                 ​WestEd                     NaT       3000000.0\n",
       "65836           吃神马 ChiShenMa                     NaT             NaN\n",
       "\n",
       "[65837 rows x 3 columns]"
      ]
     },
     "execution_count": 298,
     "metadata": {},
     "output_type": "execute_result"
    }
   ],
   "source": [
    "average_round_time_amount"
   ]
  },
  {
   "cell_type": "markdown",
   "metadata": {},
   "source": [
    "#### Time between first and second rounds"
   ]
  },
  {
   "cell_type": "code",
   "execution_count": 299,
   "metadata": {},
   "outputs": [],
   "source": [
    "# Create a column in nonoperating companies df\n",
    "nonoperating_companies_df['time_between_first_rounds'] = dt.timedelta(0)\n",
    "\n",
    "for company in clean_rounds_df.company_name.unique():\n",
    "    if len(clean_rounds_df[clean_rounds_df.company_name ==\n",
    "                           company].funded_at) > 1:\n",
    "        nonoperating_companies_df.loc[\n",
    "            nonoperating_companies_df.name ==\n",
    "            company, 'time_between_first_rounds'] = clean_rounds_df[\n",
    "                clean_rounds_df.company_name == company].funded_at.values[\n",
    "                    1] - clean_rounds_df[clean_rounds_df.company_name ==\n",
    "                                         company].funded_at.values[0]\n",
    "\n"
   ]
  },
  {
   "cell_type": "code",
   "execution_count": 300,
   "metadata": {},
   "outputs": [],
   "source": [
    "nonoperating_companies_df.to_pickle('/Users/jbpatty/project-3/nonoperating_companies_df.to_pickle')"
   ]
  },
  {
   "cell_type": "markdown",
   "metadata": {},
   "source": [
    "#### Look at the distribution of features so see if there are any that dominate"
   ]
  },
  {
   "cell_type": "code",
   "execution_count": 108,
   "metadata": {},
   "outputs": [
    {
     "ename": "UnicodeDecodeError",
     "evalue": "'utf-8' codec can't decode byte 0x80 in position 0: invalid start byte",
     "output_type": "error",
     "traceback": [
      "\u001b[0;31m---------------------------------------------------------------------------\u001b[0m",
      "\u001b[0;31mUnicodeDecodeError\u001b[0m                        Traceback (most recent call last)",
      "\u001b[0;32m<ipython-input-108-ebec2804ed5c>\u001b[0m in \u001b[0;36m<module>\u001b[0;34m\u001b[0m\n\u001b[1;32m      1\u001b[0m \u001b[0;32mwith\u001b[0m \u001b[0mopen\u001b[0m\u001b[0;34m(\u001b[0m\u001b[0;34m'/Users/jbpatty/project-3/nonoperating_companies_df.to_pickle'\u001b[0m\u001b[0;34m)\u001b[0m \u001b[0;32mas\u001b[0m \u001b[0mread_file\u001b[0m\u001b[0;34m:\u001b[0m\u001b[0;34m\u001b[0m\u001b[0;34m\u001b[0m\u001b[0m\n\u001b[0;32m----> 2\u001b[0;31m     \u001b[0mnonoperating_companies_df\u001b[0m \u001b[0;34m=\u001b[0m \u001b[0mpickle\u001b[0m\u001b[0;34m.\u001b[0m\u001b[0mload\u001b[0m\u001b[0;34m(\u001b[0m\u001b[0mread_file\u001b[0m\u001b[0;34m)\u001b[0m\u001b[0;34m\u001b[0m\u001b[0;34m\u001b[0m\u001b[0m\n\u001b[0m",
      "\u001b[0;32m~/anaconda3/envs/metis/lib/python3.8/codecs.py\u001b[0m in \u001b[0;36mdecode\u001b[0;34m(self, input, final)\u001b[0m\n\u001b[1;32m    320\u001b[0m         \u001b[0;31m# decode input (taking the buffer into account)\u001b[0m\u001b[0;34m\u001b[0m\u001b[0;34m\u001b[0m\u001b[0;34m\u001b[0m\u001b[0m\n\u001b[1;32m    321\u001b[0m         \u001b[0mdata\u001b[0m \u001b[0;34m=\u001b[0m \u001b[0mself\u001b[0m\u001b[0;34m.\u001b[0m\u001b[0mbuffer\u001b[0m \u001b[0;34m+\u001b[0m \u001b[0minput\u001b[0m\u001b[0;34m\u001b[0m\u001b[0;34m\u001b[0m\u001b[0m\n\u001b[0;32m--> 322\u001b[0;31m         \u001b[0;34m(\u001b[0m\u001b[0mresult\u001b[0m\u001b[0;34m,\u001b[0m \u001b[0mconsumed\u001b[0m\u001b[0;34m)\u001b[0m \u001b[0;34m=\u001b[0m \u001b[0mself\u001b[0m\u001b[0;34m.\u001b[0m\u001b[0m_buffer_decode\u001b[0m\u001b[0;34m(\u001b[0m\u001b[0mdata\u001b[0m\u001b[0;34m,\u001b[0m \u001b[0mself\u001b[0m\u001b[0;34m.\u001b[0m\u001b[0merrors\u001b[0m\u001b[0;34m,\u001b[0m \u001b[0mfinal\u001b[0m\u001b[0;34m)\u001b[0m\u001b[0;34m\u001b[0m\u001b[0;34m\u001b[0m\u001b[0m\n\u001b[0m\u001b[1;32m    323\u001b[0m         \u001b[0;31m# keep undecoded input until the next call\u001b[0m\u001b[0;34m\u001b[0m\u001b[0;34m\u001b[0m\u001b[0;34m\u001b[0m\u001b[0m\n\u001b[1;32m    324\u001b[0m         \u001b[0mself\u001b[0m\u001b[0;34m.\u001b[0m\u001b[0mbuffer\u001b[0m \u001b[0;34m=\u001b[0m \u001b[0mdata\u001b[0m\u001b[0;34m[\u001b[0m\u001b[0mconsumed\u001b[0m\u001b[0;34m:\u001b[0m\u001b[0;34m]\u001b[0m\u001b[0;34m\u001b[0m\u001b[0;34m\u001b[0m\u001b[0m\n",
      "\u001b[0;31mUnicodeDecodeError\u001b[0m: 'utf-8' codec can't decode byte 0x80 in position 0: invalid start byte"
     ]
    }
   ],
   "source": [
    "with open('/Users/jbpatty/project-3/nonoperating_companies_df.to_pickle') as read_file:\n",
    "    nonoperating_companies_df = pickle.load(read_file)"
   ]
  },
  {
   "cell_type": "code",
   "execution_count": 301,
   "metadata": {},
   "outputs": [],
   "source": [
    "# Fill empty categories with 'unknown'\n",
    "nonoperating_companies_df.category_list.fillna('unknown', inplace=True)\n",
    "# Create column with list of categories\n",
    "nonoperating_companies_df['categories_list'] = nonoperating_companies_df.category_list.apply(str.split, sep='|')"
   ]
  },
  {
   "cell_type": "markdown",
   "metadata": {},
   "source": [
    "#### Look at distribution of categories"
   ]
  },
  {
   "cell_type": "code",
   "execution_count": 302,
   "metadata": {},
   "outputs": [
    {
     "data": {
      "image/png": "[encoded data removed]",
      "text/plain": [
       "<Figure size 648x360 with 1 Axes>"
      ]
     },
     "metadata": {
      "needs_background": "light"
     },
     "output_type": "display_data"
    }
   ],
   "source": [
    "# Create list of category lists\n",
    "categories = list(nonoperating_companies_df.category_list)\n",
    "# Flatten the list\n",
    "flat_categories = [cat for sublist in categories for cat in sublist]\n",
    "# Count occurances of each\n",
    "category_counts = Counter(flat_categories).most_common()\n",
    "# Look at the distribution\n",
    "plt.figure(figsize=(9, 5))\n",
    "plt.bar([x[0] for x in category_counts[0:50]],\n",
    "        [x[1] for x in category_counts[0:50]],\n",
    "        width=0.8)\n",
    "plt.xticks(rotation=90)\n",
    "plt.title('50 Most Commonly Occuring Categories')\n",
    "sns.despine()"
   ]
  },
  {
   "cell_type": "code",
   "execution_count": 303,
   "metadata": {},
   "outputs": [],
   "source": [
    "# Take the top 25\n",
    "top_categories = [x[0] for x in category_counts[0:25]]                       "
   ]
  },
  {
   "cell_type": "markdown",
   "metadata": {},
   "source": [
    "#### For each company with a category in the top 25, replace its category_list with that single category"
   ]
  },
  {
   "cell_type": "code",
   "execution_count": 304,
   "metadata": {},
   "outputs": [
    {
     "name": "stderr",
     "output_type": "stream",
     "text": [
      "<ipython-input-304-689abd59d56a>:1: UserWarning: Pandas doesn't allow columns to be created via a new attribute name - see https://pandas.pydata.org/pandas-docs/stable/indexing.html#attribute-access\n",
      "  nonoperating_companies_df.categoty_list = nonoperating_companies_df.category_list.map(\n"
     ]
    }
   ],
   "source": [
    "nonoperating_companies_df.categoty_list = nonoperating_companies_df.category_list.map(\n",
    "    lambda x: list(set(x) & set(top_categories))\n",
    "    if set(x) & set(top_categories) else ['0_other_categories'])"
   ]
  },
  {
   "cell_type": "markdown",
   "metadata": {},
   "source": [
    "#### Check out category distribution with simplified categories"
   ]
  },
  {
   "cell_type": "code",
   "execution_count": 305,
   "metadata": {},
   "outputs": [
    {
     "data": {
      "image/png": "[encoded data removed]",
      "text/plain": [
       "<Figure size 648x360 with 1 Axes>"
      ]
     },
     "metadata": {
      "needs_background": "light"
     },
     "output_type": "display_data"
    }
   ],
   "source": [
    "# Create list of category lists\n",
    "categories = list(nonoperating_companies_df.category_list)\n",
    "# Flatten the list\n",
    "flat_categories = [cat for sublist in categories for cat in sublist]\n",
    "# Count occurances of each\n",
    "category_counts = Counter(flat_categories).most_common()\n",
    "# Look at the distribution\n",
    "plt.figure(figsize=(9, 5))\n",
    "plt.bar([x[0] for x in category_counts[0:25]],\n",
    "        [x[1] for x in category_counts[0:25]],\n",
    "        width=0.8)\n",
    "plt.xticks(rotation=90)\n",
    "plt.title('Top Categories')\n",
    "sns.despine()"
   ]
  },
  {
   "cell_type": "code",
   "execution_count": 306,
   "metadata": {},
   "outputs": [
    {
     "data": {
      "text/plain": [
       "[('e', 86678), ('o', 57738), ('a', 57506), ('i', 56595), ('n', 56168)]"
      ]
     },
     "execution_count": 306,
     "metadata": {},
     "output_type": "execute_result"
    }
   ],
   "source": [
    "category_counts[:5]"
   ]
  },
  {
   "cell_type": "code",
   "execution_count": 308,
   "metadata": {},
   "outputs": [],
   "source": [
    "# Create dummy variables in the feature matrix\n",
    "nonoperating_companies_df.category_list = nonoperating_companies_df.category_list.apply(\n",
    "    lambda x: x[0])"
   ]
  },
  {
   "cell_type": "markdown",
   "metadata": {},
   "source": [
    "### Location of features"
   ]
  },
  {
   "cell_type": "code",
   "execution_count": 309,
   "metadata": {},
   "outputs": [],
   "source": [
    "# Country\n",
    "nonoperating_companies_df.country_code.fillna('unknown', inplace=True)"
   ]
  },
  {
   "cell_type": "code",
   "execution_count": 310,
   "metadata": {},
   "outputs": [
    {
     "data": {
      "text/plain": [
       "<function seaborn.utils.despine(fig=None, ax=None, top=True, right=True, left=False, bottom=False, offset=None, trim=False)>"
      ]
     },
     "execution_count": 310,
     "metadata": {},
     "output_type": "execute_result"
    },
    {
     "data": {
      "image/png": "[encoded data removed]",
      "text/plain": [
       "<Figure size 432x288 with 1 Axes>"
      ]
     },
     "metadata": {
      "needs_background": "light"
     },
     "output_type": "display_data"
    }
   ],
   "source": [
    "# Checkout distribution\n",
    "country_dist = nonoperating_companies_df.groupby(\n",
    "    'country_code').size().sort_values(ascending=False)\n",
    "plt.bar(country_dist[0:10].index, height=country_dist[0:10].values)\n",
    "plt.xticks(rotation=90)\n",
    "plt.title('Distribution of Top 10 Countries')\n",
    "sns.despine"
   ]
  },
  {
   "cell_type": "code",
   "execution_count": 311,
   "metadata": {},
   "outputs": [],
   "source": [
    "# Countries with more than 500 companies\n",
    "top_countries = nonoperating_companies_df.groupby('country_code').size() > 500\n",
    "\n",
    "# Companies from countries with less than 500 go to 'other'\n",
    "nonoperating_companies_df[\n",
    "    'country'] = nonoperating_companies_df.country_code.apply(\n",
    "    lambda x: x if top_countries[x] else '0_other_country')"
   ]
  },
  {
   "cell_type": "code",
   "execution_count": 312,
   "metadata": {},
   "outputs": [],
   "source": [
    "# Check out states since most of the companies are US based\n",
    "# Fill empty states with 'unknown'\n",
    "nonoperating_companies_df.state_code.fillna('unknown', inplace=True)               "
   ]
  },
  {
   "cell_type": "code",
   "execution_count": 313,
   "metadata": {},
   "outputs": [
    {
     "data": {
      "text/plain": [
       "Text(0.5, 1.0, 'Distribution of Top 10 States')"
      ]
     },
     "execution_count": 313,
     "metadata": {},
     "output_type": "execute_result"
    },
    {
     "data": {
      "image/png": "[encoded data removed]",
      "text/plain": [
       "<Figure size 432x288 with 1 Axes>"
      ]
     },
     "metadata": {
      "needs_background": "light"
     },
     "output_type": "display_data"
    }
   ],
   "source": [
    "# Check out state distribution\n",
    "state_dist = nonoperating_companies_df.groupby(\n",
    "    'state_code').size().sort_values(ascending=False)\n",
    "plt.bar(state_dist[0:10].index, height=state_dist[0:10].values)\n",
    "plt.xticks(rotation=90)\n",
    "sns.despine()\n",
    "plt.title('Distribution of Top 10 States')"
   ]
  },
  {
   "cell_type": "code",
   "execution_count": 314,
   "metadata": {},
   "outputs": [],
   "source": [
    "# States with more than 500 companies\n",
    "top_states = nonoperating_companies_df.groupby('state_code').size() > 500\n",
    "\n",
    "# Companies from states with less than 500 go to 'other'\n",
    "nonoperating_companies_df[\n",
    "    'state'] = nonoperating_companies_df.state_code.apply(\n",
    "    lambda x: x if top_states[x] else '0_other_state')"
   ]
  },
  {
   "cell_type": "code",
   "execution_count": 315,
   "metadata": {},
   "outputs": [
    {
     "data": {
      "text/plain": [
       "operating    14661\n",
       "closed        4794\n",
       "acquired      2664\n",
       "ipo            646\n",
       "Name: status, dtype: int64"
      ]
     },
     "execution_count": 315,
     "metadata": {},
     "output_type": "execute_result"
    }
   ],
   "source": [
    "nonoperating_companies_df[nonoperating_companies_df.funding_rounds == 1].status.value_counts()"
   ]
  },
  {
   "cell_type": "markdown",
   "metadata": {},
   "source": [
    "### Seed Round"
   ]
  },
  {
   "cell_type": "markdown",
   "metadata": {},
   "source": [
    "Compare labeled seed rounds and labeled venture rounds to no seed rounds and unlabeled venture rounds"
   ]
  },
  {
   "cell_type": "code",
   "execution_count": 316,
   "metadata": {},
   "outputs": [
    {
     "name": "stderr",
     "output_type": "stream",
     "text": [
      "<ipython-input-316-0385bb0c438a>:13: SettingWithCopyWarning: \n",
      "A value is trying to be set on a copy of a slice from a DataFrame.\n",
      "Try using .loc[row_indexer,col_indexer] = value instead\n",
      "\n",
      "See the caveats in the documentation: https://pandas.pydata.org/pandas-docs/stable/user_guide/indexing.html#returning-a-view-versus-a-copy\n",
      "  clean_rounds_df['round_code'] = clean_rounds_df.apply(seed_code, axis=1)\n"
     ]
    }
   ],
   "source": [
    "def seed_code(row):\n",
    "    \n",
    "    \"\"\"\n",
    "    Replace funding round type with 'seed' if type is 'seed'\n",
    "    \n",
    "    \"\"\"\n",
    "    \n",
    "    if row['funding_round_type'] == 'seed':\n",
    "        return 'seed'\n",
    "    else:\n",
    "        return row['funding_round_code']\n",
    "\n",
    "clean_rounds_df['round_code'] = clean_rounds_df.apply(seed_code, axis=1)"
   ]
  },
  {
   "cell_type": "code",
   "execution_count": 317,
   "metadata": {},
   "outputs": [
    {
     "name": "stderr",
     "output_type": "stream",
     "text": [
      "/Users/jbpatty/anaconda3/envs/metis/lib/python3.8/site-packages/pandas/core/generic.py:5165: SettingWithCopyWarning: \n",
      "A value is trying to be set on a copy of a slice from a DataFrame.\n",
      "Try using .loc[row_indexer,col_indexer] = value instead\n",
      "\n",
      "See the caveats in the documentation: https://pandas.pydata.org/pandas-docs/stable/user_guide/indexing.html#returning-a-view-versus-a-copy\n",
      "  self[name] = value\n"
     ]
    }
   ],
   "source": [
    "clean_rounds_df.funded_at = pd.to_datetime(clean_rounds_df.loc[:, 'funded_at'])"
   ]
  },
  {
   "cell_type": "code",
   "execution_count": 318,
   "metadata": {},
   "outputs": [],
   "source": [
    "# Group by company and round code for companies that segmented their rounds\n",
    "company_round_groups = clean_rounds_df.groupby(['company_name',\n",
    "                                                'round_code']).agg({\n",
    "                                                'funded_at' : 'max',\n",
    "                                                'raised_amount_usd':'sum'\n",
    "                                              })\n",
    "company_round_groups.reset_index(inplace=True)"
   ]
  },
  {
   "cell_type": "code",
   "execution_count": 319,
   "metadata": {},
   "outputs": [],
   "source": [
    "# Seed df\n",
    "seed_df = company_round_groups[company_round_groups.round_code == 'seed'].rename(\n",
    "                        columns = {\n",
    "                            'company_name' : 'name',\n",
    "                            'round_code' : 'seed_bool',\n",
    "                            'funded_at' : 'seed_date',\n",
    "                            'raised_amount_usd' : 'seed_amount'\n",
    "                        })\n",
    "\n",
    "seed_df.seed_bool = 1"
   ]
  },
  {
   "cell_type": "code",
   "execution_count": 320,
   "metadata": {},
   "outputs": [
    {
     "ename": "SystemError",
     "evalue": "<built-in method view of numpy.ndarray object at 0x7fe4ee92be90> returned a result with an error set",
     "output_type": "error",
     "traceback": [
      "\u001b[0;31m---------------------------------------------------------------------------\u001b[0m",
      "\u001b[0;31mTypeError\u001b[0m                                 Traceback (most recent call last)",
      "\u001b[0;31mTypeError\u001b[0m: unhashable type: 'list'",
      "\nThe above exception was the direct cause of the following exception:\n",
      "\u001b[0;31mSystemError\u001b[0m                               Traceback (most recent call last)",
      "\u001b[0;32m<ipython-input-320-d28e8b1e9e10>\u001b[0m in \u001b[0;36m<module>\u001b[0;34m\u001b[0m\n\u001b[1;32m      1\u001b[0m \u001b[0;31m# Fill in seed bool column in df for companies with a labeled seed round\u001b[0m\u001b[0;34m\u001b[0m\u001b[0;34m\u001b[0m\u001b[0;34m\u001b[0m\u001b[0m\n\u001b[1;32m      2\u001b[0m \u001b[0mnonoperating_companies_df\u001b[0m\u001b[0;34m[\u001b[0m\u001b[0;34m'seed_bool'\u001b[0m\u001b[0;34m]\u001b[0m \u001b[0;34m=\u001b[0m \u001b[0;36m0\u001b[0m\u001b[0;34m\u001b[0m\u001b[0;34m\u001b[0m\u001b[0m\n\u001b[0;32m----> 3\u001b[0;31m \u001b[0mnonoperating_companies_df\u001b[0m\u001b[0;34m.\u001b[0m\u001b[0mloc\u001b[0m\u001b[0;34m[\u001b[0m\u001b[0mnonoperating_companies_df\u001b[0m\u001b[0;34m.\u001b[0m\u001b[0misin\u001b[0m\u001b[0;34m(\u001b[0m\u001b[0mseed_df\u001b[0m\u001b[0;34m.\u001b[0m\u001b[0mname\u001b[0m\u001b[0;34m.\u001b[0m\u001b[0mvalues\u001b[0m\u001b[0;34m)\u001b[0m\u001b[0;34m,\u001b[0m \u001b[0;34m'seed_bool'\u001b[0m\u001b[0;34m]\u001b[0m \u001b[0;34m=\u001b[0m \u001b[0;36m1\u001b[0m\u001b[0;34m\u001b[0m\u001b[0;34m\u001b[0m\u001b[0m\n\u001b[0m",
      "\u001b[0;32m~/anaconda3/envs/metis/lib/python3.8/site-packages/pandas/core/frame.py\u001b[0m in \u001b[0;36misin\u001b[0;34m(self, values)\u001b[0m\n\u001b[1;32m   9219\u001b[0m                 )\n\u001b[1;32m   9220\u001b[0m             return self._constructor(\n\u001b[0;32m-> 9221\u001b[0;31m                 \u001b[0malgorithms\u001b[0m\u001b[0;34m.\u001b[0m\u001b[0misin\u001b[0m\u001b[0;34m(\u001b[0m\u001b[0mself\u001b[0m\u001b[0;34m.\u001b[0m\u001b[0mvalues\u001b[0m\u001b[0;34m.\u001b[0m\u001b[0mravel\u001b[0m\u001b[0;34m(\u001b[0m\u001b[0;34m)\u001b[0m\u001b[0;34m,\u001b[0m \u001b[0mvalues\u001b[0m\u001b[0;34m)\u001b[0m\u001b[0;34m.\u001b[0m\u001b[0mreshape\u001b[0m\u001b[0;34m(\u001b[0m\u001b[0mself\u001b[0m\u001b[0;34m.\u001b[0m\u001b[0mshape\u001b[0m\u001b[0;34m)\u001b[0m\u001b[0;34m,\u001b[0m\u001b[0;34m\u001b[0m\u001b[0;34m\u001b[0m\u001b[0m\n\u001b[0m\u001b[1;32m   9222\u001b[0m                 \u001b[0mself\u001b[0m\u001b[0;34m.\u001b[0m\u001b[0mindex\u001b[0m\u001b[0;34m,\u001b[0m\u001b[0;34m\u001b[0m\u001b[0;34m\u001b[0m\u001b[0m\n\u001b[1;32m   9223\u001b[0m                 \u001b[0mself\u001b[0m\u001b[0;34m.\u001b[0m\u001b[0mcolumns\u001b[0m\u001b[0;34m,\u001b[0m\u001b[0;34m\u001b[0m\u001b[0;34m\u001b[0m\u001b[0m\n",
      "\u001b[0;32m~/anaconda3/envs/metis/lib/python3.8/site-packages/pandas/core/algorithms.py\u001b[0m in \u001b[0;36misin\u001b[0;34m(comps, values)\u001b[0m\n\u001b[1;32m    458\u001b[0m             \u001b[0mcomps\u001b[0m \u001b[0;34m=\u001b[0m \u001b[0mcomps\u001b[0m\u001b[0;34m.\u001b[0m\u001b[0mastype\u001b[0m\u001b[0;34m(\u001b[0m\u001b[0mobject\u001b[0m\u001b[0;34m)\u001b[0m\u001b[0;34m\u001b[0m\u001b[0;34m\u001b[0m\u001b[0m\n\u001b[1;32m    459\u001b[0m \u001b[0;34m\u001b[0m\u001b[0m\n\u001b[0;32m--> 460\u001b[0;31m     \u001b[0;32mreturn\u001b[0m \u001b[0mf\u001b[0m\u001b[0;34m(\u001b[0m\u001b[0mcomps\u001b[0m\u001b[0;34m,\u001b[0m \u001b[0mvalues\u001b[0m\u001b[0;34m)\u001b[0m\u001b[0;34m\u001b[0m\u001b[0;34m\u001b[0m\u001b[0m\n\u001b[0m\u001b[1;32m    461\u001b[0m \u001b[0;34m\u001b[0m\u001b[0m\n\u001b[1;32m    462\u001b[0m \u001b[0;34m\u001b[0m\u001b[0m\n",
      "\u001b[0;32mpandas/_libs/hashtable_func_helper.pxi\u001b[0m in \u001b[0;36mpandas._libs.hashtable.ismember_object\u001b[0;34m()\u001b[0m\n",
      "\u001b[0;31mSystemError\u001b[0m: <built-in method view of numpy.ndarray object at 0x7fe4ee92be90> returned a result with an error set"
     ]
    }
   ],
   "source": [
    "# Fill in seed bool column in df for companies with a labeled seed round\n",
    "nonoperating_companies_df['seed_bool'] = 0\n",
    "nonoperating_companies_df.loc[nonoperating_companies_df.isin(seed_df.name.values), 'seed_bool'] = 1"
   ]
  },
  {
   "cell_type": "code",
   "execution_count": 334,
   "metadata": {},
   "outputs": [
    {
     "data": {
      "text/plain": [
       "0    32426\n",
       "Name: seed_bool, dtype: int64"
      ]
     },
     "execution_count": 334,
     "metadata": {},
     "output_type": "execute_result"
    }
   ],
   "source": [
    "nonoperating_companies_df.seed_bool.value_counts()"
   ]
  },
  {
   "cell_type": "code",
   "execution_count": 323,
   "metadata": {},
   "outputs": [
    {
     "data": {
      "text/html": [
       "<div>\n",
       "<style scoped>\n",
       "    .dataframe tbody tr th:only-of-type {\n",
       "        vertical-align: middle;\n",
       "    }\n",
       "\n",
       "    .dataframe tbody tr th {\n",
       "        vertical-align: top;\n",
       "    }\n",
       "\n",
       "    .dataframe thead th {\n",
       "        text-align: right;\n",
       "    }\n",
       "</style>\n",
       "<table border=\"1\" class=\"dataframe\">\n",
       "  <thead>\n",
       "    <tr style=\"text-align: right;\">\n",
       "      <th></th>\n",
       "      <th>permalink</th>\n",
       "      <th>name</th>\n",
       "      <th>category_list</th>\n",
       "      <th>funding_total_usd</th>\n",
       "      <th>status</th>\n",
       "      <th>country_code</th>\n",
       "      <th>state_code</th>\n",
       "      <th>region</th>\n",
       "      <th>city</th>\n",
       "      <th>funding_rounds</th>\n",
       "      <th>...</th>\n",
       "      <th>last_funding_at</th>\n",
       "      <th>status_bool</th>\n",
       "      <th>company_name</th>\n",
       "      <th>avg_time_between_rounds</th>\n",
       "      <th>avg_raised_usd</th>\n",
       "      <th>time_between_first_rounds</th>\n",
       "      <th>categories_list</th>\n",
       "      <th>country</th>\n",
       "      <th>state</th>\n",
       "      <th>seed_bool</th>\n",
       "    </tr>\n",
       "  </thead>\n",
       "  <tbody>\n",
       "    <tr>\n",
       "      <th>0</th>\n",
       "      <td>/organization/0-6-com</td>\n",
       "      <td>0-6.com</td>\n",
       "      <td>C</td>\n",
       "      <td>2000000.0</td>\n",
       "      <td>operating</td>\n",
       "      <td>CHN</td>\n",
       "      <td>22</td>\n",
       "      <td>Beijing</td>\n",
       "      <td>Beijing</td>\n",
       "      <td>1</td>\n",
       "      <td>...</td>\n",
       "      <td>2008-03-19</td>\n",
       "      <td>0.0</td>\n",
       "      <td>0-6.com</td>\n",
       "      <td>NaT</td>\n",
       "      <td>2000000.00</td>\n",
       "      <td>0 days</td>\n",
       "      <td>[Curated Web]</td>\n",
       "      <td>CHN</td>\n",
       "      <td>0_other_state</td>\n",
       "      <td>0</td>\n",
       "    </tr>\n",
       "    <tr>\n",
       "      <th>1</th>\n",
       "      <td>/organization/0ndine-biomedical-inc</td>\n",
       "      <td>Ondine Biomedical Inc.</td>\n",
       "      <td>B</td>\n",
       "      <td>762851.0</td>\n",
       "      <td>operating</td>\n",
       "      <td>CAN</td>\n",
       "      <td>BC</td>\n",
       "      <td>Vancouver</td>\n",
       "      <td>Vancouver</td>\n",
       "      <td>2</td>\n",
       "      <td>...</td>\n",
       "      <td>2009-12-21</td>\n",
       "      <td>0.0</td>\n",
       "      <td>Ondine Biomedical Inc.</td>\n",
       "      <td>101 days 00:00:00</td>\n",
       "      <td>381425.50</td>\n",
       "      <td>101 days</td>\n",
       "      <td>[Biotechnology]</td>\n",
       "      <td>CAN</td>\n",
       "      <td>0_other_state</td>\n",
       "      <td>0</td>\n",
       "    </tr>\n",
       "    <tr>\n",
       "      <th>2</th>\n",
       "      <td>/organization/1-2-3-listo</td>\n",
       "      <td>1,2,3 Listo</td>\n",
       "      <td>E</td>\n",
       "      <td>40000.0</td>\n",
       "      <td>operating</td>\n",
       "      <td>CHL</td>\n",
       "      <td>12</td>\n",
       "      <td>Santiago</td>\n",
       "      <td>Las Condes</td>\n",
       "      <td>1</td>\n",
       "      <td>...</td>\n",
       "      <td>2013-02-18</td>\n",
       "      <td>0.0</td>\n",
       "      <td>1,2,3 Listo</td>\n",
       "      <td>NaT</td>\n",
       "      <td>40000.00</td>\n",
       "      <td>0 days</td>\n",
       "      <td>[E-Commerce]</td>\n",
       "      <td>0_other_country</td>\n",
       "      <td>0_other_state</td>\n",
       "      <td>0</td>\n",
       "    </tr>\n",
       "    <tr>\n",
       "      <th>3</th>\n",
       "      <td>/organization/1-4-all</td>\n",
       "      <td>1-4 All</td>\n",
       "      <td>E</td>\n",
       "      <td>0.0</td>\n",
       "      <td>operating</td>\n",
       "      <td>USA</td>\n",
       "      <td>NC</td>\n",
       "      <td>NC - Other</td>\n",
       "      <td>Connellys Springs</td>\n",
       "      <td>1</td>\n",
       "      <td>...</td>\n",
       "      <td>2013-04-21</td>\n",
       "      <td>0.0</td>\n",
       "      <td>1-4 All</td>\n",
       "      <td>NaT</td>\n",
       "      <td>NaN</td>\n",
       "      <td>0 days</td>\n",
       "      <td>[Entertainment, Games, Software]</td>\n",
       "      <td>USA</td>\n",
       "      <td>0_other_state</td>\n",
       "      <td>0</td>\n",
       "    </tr>\n",
       "    <tr>\n",
       "      <th>4</th>\n",
       "      <td>/organization/1-800-dentist</td>\n",
       "      <td>1-800-DENTIST</td>\n",
       "      <td>H</td>\n",
       "      <td>0.0</td>\n",
       "      <td>operating</td>\n",
       "      <td>USA</td>\n",
       "      <td>CA</td>\n",
       "      <td>Los Angeles</td>\n",
       "      <td>Los Angeles</td>\n",
       "      <td>1</td>\n",
       "      <td>...</td>\n",
       "      <td>2010-08-19</td>\n",
       "      <td>0.0</td>\n",
       "      <td>1-800-DENTIST</td>\n",
       "      <td>NaT</td>\n",
       "      <td>NaN</td>\n",
       "      <td>0 days</td>\n",
       "      <td>[Health and Wellness]</td>\n",
       "      <td>USA</td>\n",
       "      <td>CA</td>\n",
       "      <td>0</td>\n",
       "    </tr>\n",
       "    <tr>\n",
       "      <th>...</th>\n",
       "      <td>...</td>\n",
       "      <td>...</td>\n",
       "      <td>...</td>\n",
       "      <td>...</td>\n",
       "      <td>...</td>\n",
       "      <td>...</td>\n",
       "      <td>...</td>\n",
       "      <td>...</td>\n",
       "      <td>...</td>\n",
       "      <td>...</td>\n",
       "      <td>...</td>\n",
       "      <td>...</td>\n",
       "      <td>...</td>\n",
       "      <td>...</td>\n",
       "      <td>...</td>\n",
       "      <td>...</td>\n",
       "      <td>...</td>\n",
       "      <td>...</td>\n",
       "      <td>...</td>\n",
       "      <td>...</td>\n",
       "      <td>...</td>\n",
       "    </tr>\n",
       "    <tr>\n",
       "      <th>32421</th>\n",
       "      <td>/organization/zyraz-technology</td>\n",
       "      <td>Zyraz Technology</td>\n",
       "      <td>B</td>\n",
       "      <td>15419877.0</td>\n",
       "      <td>closed</td>\n",
       "      <td>MYS</td>\n",
       "      <td>14</td>\n",
       "      <td>MYS - Other</td>\n",
       "      <td>Damansara New Village</td>\n",
       "      <td>4</td>\n",
       "      <td>...</td>\n",
       "      <td>2013-02-15</td>\n",
       "      <td>0.0</td>\n",
       "      <td>Zyraz Technology</td>\n",
       "      <td>624 days 00:00:00</td>\n",
       "      <td>3854969.25</td>\n",
       "      <td>619 days</td>\n",
       "      <td>[Biotechnology]</td>\n",
       "      <td>0_other_country</td>\n",
       "      <td>0_other_state</td>\n",
       "      <td>0</td>\n",
       "    </tr>\n",
       "    <tr>\n",
       "      <th>32422</th>\n",
       "      <td>/organization/zyrra</td>\n",
       "      <td>Zyrra</td>\n",
       "      <td>E</td>\n",
       "      <td>1510500.0</td>\n",
       "      <td>operating</td>\n",
       "      <td>USA</td>\n",
       "      <td>MA</td>\n",
       "      <td>Boston</td>\n",
       "      <td>Cambridge</td>\n",
       "      <td>4</td>\n",
       "      <td>...</td>\n",
       "      <td>2012-10-18</td>\n",
       "      <td>0.0</td>\n",
       "      <td>Zyrra</td>\n",
       "      <td>242 days 16:00:00</td>\n",
       "      <td>377625.00</td>\n",
       "      <td>25 days</td>\n",
       "      <td>[E-Commerce]</td>\n",
       "      <td>USA</td>\n",
       "      <td>MA</td>\n",
       "      <td>0</td>\n",
       "    </tr>\n",
       "    <tr>\n",
       "      <th>32423</th>\n",
       "      <td>/organization/zystor</td>\n",
       "      <td>Zystor</td>\n",
       "      <td>B</td>\n",
       "      <td>8500000.0</td>\n",
       "      <td>acquired</td>\n",
       "      <td>USA</td>\n",
       "      <td>WI</td>\n",
       "      <td>Milwaukee</td>\n",
       "      <td>Milwaukee</td>\n",
       "      <td>1</td>\n",
       "      <td>...</td>\n",
       "      <td>2004-12-16</td>\n",
       "      <td>1.0</td>\n",
       "      <td>Zystor</td>\n",
       "      <td>NaT</td>\n",
       "      <td>8500000.00</td>\n",
       "      <td>0 days</td>\n",
       "      <td>[Biotechnology]</td>\n",
       "      <td>USA</td>\n",
       "      <td>0_other_state</td>\n",
       "      <td>0</td>\n",
       "    </tr>\n",
       "    <tr>\n",
       "      <th>32424</th>\n",
       "      <td>/organization/zytoprotec</td>\n",
       "      <td>Zytoprotec</td>\n",
       "      <td>B</td>\n",
       "      <td>2686600.0</td>\n",
       "      <td>operating</td>\n",
       "      <td>AUT</td>\n",
       "      <td>3</td>\n",
       "      <td>Vienna</td>\n",
       "      <td>Gerasdorf Bei Wien</td>\n",
       "      <td>1</td>\n",
       "      <td>...</td>\n",
       "      <td>2013-01-29</td>\n",
       "      <td>0.0</td>\n",
       "      <td>Zytoprotec</td>\n",
       "      <td>NaT</td>\n",
       "      <td>2686600.00</td>\n",
       "      <td>0 days</td>\n",
       "      <td>[Biotechnology]</td>\n",
       "      <td>0_other_country</td>\n",
       "      <td>0_other_state</td>\n",
       "      <td>0</td>\n",
       "    </tr>\n",
       "    <tr>\n",
       "      <th>32425</th>\n",
       "      <td>/organization/zznode-science-and-technology-co...</td>\n",
       "      <td>ZZNode Science and Technology</td>\n",
       "      <td>E</td>\n",
       "      <td>1587301.0</td>\n",
       "      <td>operating</td>\n",
       "      <td>CHN</td>\n",
       "      <td>22</td>\n",
       "      <td>Beijing</td>\n",
       "      <td>Beijing</td>\n",
       "      <td>1</td>\n",
       "      <td>...</td>\n",
       "      <td>2012-04-01</td>\n",
       "      <td>0.0</td>\n",
       "      <td>ZZNode Science and Technology</td>\n",
       "      <td>NaT</td>\n",
       "      <td>1587301.00</td>\n",
       "      <td>0 days</td>\n",
       "      <td>[Enterprise Software]</td>\n",
       "      <td>CHN</td>\n",
       "      <td>0_other_state</td>\n",
       "      <td>0</td>\n",
       "    </tr>\n",
       "  </tbody>\n",
       "</table>\n",
       "<p>32426 rows × 22 columns</p>\n",
       "</div>"
      ],
      "text/plain": [
       "                                               permalink  \\\n",
       "0                                  /organization/0-6-com   \n",
       "1                    /organization/0ndine-biomedical-inc   \n",
       "2                              /organization/1-2-3-listo   \n",
       "3                                  /organization/1-4-all   \n",
       "4                            /organization/1-800-dentist   \n",
       "...                                                  ...   \n",
       "32421                     /organization/zyraz-technology   \n",
       "32422                                /organization/zyrra   \n",
       "32423                               /organization/zystor   \n",
       "32424                           /organization/zytoprotec   \n",
       "32425  /organization/zznode-science-and-technology-co...   \n",
       "\n",
       "                                name category_list  funding_total_usd  \\\n",
       "0                            0-6.com             C          2000000.0   \n",
       "1             Ondine Biomedical Inc.             B           762851.0   \n",
       "2                        1,2,3 Listo             E            40000.0   \n",
       "3                            1-4 All             E                0.0   \n",
       "4                      1-800-DENTIST             H                0.0   \n",
       "...                              ...           ...                ...   \n",
       "32421               Zyraz Technology             B         15419877.0   \n",
       "32422                          Zyrra             E          1510500.0   \n",
       "32423                         Zystor             B          8500000.0   \n",
       "32424                     Zytoprotec             B          2686600.0   \n",
       "32425  ZZNode Science and Technology             E          1587301.0   \n",
       "\n",
       "          status country_code state_code       region                   city  \\\n",
       "0      operating          CHN         22      Beijing                Beijing   \n",
       "1      operating          CAN         BC    Vancouver              Vancouver   \n",
       "2      operating          CHL         12     Santiago             Las Condes   \n",
       "3      operating          USA         NC   NC - Other      Connellys Springs   \n",
       "4      operating          USA         CA  Los Angeles            Los Angeles   \n",
       "...          ...          ...        ...          ...                    ...   \n",
       "32421     closed          MYS         14  MYS - Other  Damansara New Village   \n",
       "32422  operating          USA         MA       Boston              Cambridge   \n",
       "32423   acquired          USA         WI    Milwaukee              Milwaukee   \n",
       "32424  operating          AUT          3       Vienna     Gerasdorf Bei Wien   \n",
       "32425  operating          CHN         22      Beijing                Beijing   \n",
       "\n",
       "       funding_rounds  ... last_funding_at status_bool  \\\n",
       "0                   1  ...      2008-03-19         0.0   \n",
       "1                   2  ...      2009-12-21         0.0   \n",
       "2                   1  ...      2013-02-18         0.0   \n",
       "3                   1  ...      2013-04-21         0.0   \n",
       "4                   1  ...      2010-08-19         0.0   \n",
       "...               ...  ...             ...         ...   \n",
       "32421               4  ...      2013-02-15         0.0   \n",
       "32422               4  ...      2012-10-18         0.0   \n",
       "32423               1  ...      2004-12-16         1.0   \n",
       "32424               1  ...      2013-01-29         0.0   \n",
       "32425               1  ...      2012-04-01         0.0   \n",
       "\n",
       "                        company_name  avg_time_between_rounds avg_raised_usd  \\\n",
       "0                            0-6.com                      NaT     2000000.00   \n",
       "1             Ondine Biomedical Inc.        101 days 00:00:00      381425.50   \n",
       "2                        1,2,3 Listo                      NaT       40000.00   \n",
       "3                            1-4 All                      NaT            NaN   \n",
       "4                      1-800-DENTIST                      NaT            NaN   \n",
       "...                              ...                      ...            ...   \n",
       "32421               Zyraz Technology        624 days 00:00:00     3854969.25   \n",
       "32422                          Zyrra        242 days 16:00:00      377625.00   \n",
       "32423                         Zystor                      NaT     8500000.00   \n",
       "32424                     Zytoprotec                      NaT     2686600.00   \n",
       "32425  ZZNode Science and Technology                      NaT     1587301.00   \n",
       "\n",
       "      time_between_first_rounds                   categories_list  \\\n",
       "0                        0 days                     [Curated Web]   \n",
       "1                      101 days                   [Biotechnology]   \n",
       "2                        0 days                      [E-Commerce]   \n",
       "3                        0 days  [Entertainment, Games, Software]   \n",
       "4                        0 days             [Health and Wellness]   \n",
       "...                         ...                               ...   \n",
       "32421                  619 days                   [Biotechnology]   \n",
       "32422                   25 days                      [E-Commerce]   \n",
       "32423                    0 days                   [Biotechnology]   \n",
       "32424                    0 days                   [Biotechnology]   \n",
       "32425                    0 days             [Enterprise Software]   \n",
       "\n",
       "               country          state seed_bool  \n",
       "0                  CHN  0_other_state         0  \n",
       "1                  CAN  0_other_state         0  \n",
       "2      0_other_country  0_other_state         0  \n",
       "3                  USA  0_other_state         0  \n",
       "4                  USA             CA         0  \n",
       "...                ...            ...       ...  \n",
       "32421  0_other_country  0_other_state         0  \n",
       "32422              USA             MA         0  \n",
       "32423              USA  0_other_state         0  \n",
       "32424  0_other_country  0_other_state         0  \n",
       "32425              CHN  0_other_state         0  \n",
       "\n",
       "[32426 rows x 22 columns]"
      ]
     },
     "execution_count": 323,
     "metadata": {},
     "output_type": "execute_result"
    }
   ],
   "source": [
    "nonoperating_companies_df"
   ]
  },
  {
   "cell_type": "markdown",
   "metadata": {},
   "source": [
    "### Fix 0 Values (should be nans)"
   ]
  },
  {
   "cell_type": "code",
   "execution_count": 325,
   "metadata": {},
   "outputs": [],
   "source": [
    "# Convert 0 values to NaNs\n",
    "nonoperating_companies_df.time_between_first_rounds.replace(to_replace=dt.timedelta(days=0),\n",
    "                                   value=np.nan,\n",
    "                                   inplace=True)"
   ]
  },
  {
   "cell_type": "code",
   "execution_count": 326,
   "metadata": {},
   "outputs": [
    {
     "data": {
      "text/plain": [
       "Index(['permalink', 'name', 'category_list', 'funding_total_usd', 'status',\n",
       "       'country_code', 'state_code', 'region', 'city', 'funding_rounds',\n",
       "       'founded_at', 'first_funding_at', 'last_funding_at', 'status_bool',\n",
       "       'company_name', 'avg_time_between_rounds', 'avg_raised_usd',\n",
       "       'time_between_first_rounds', 'categories_list', 'country', 'state',\n",
       "       'seed_bool'],\n",
       "      dtype='object')"
      ]
     },
     "execution_count": 326,
     "metadata": {},
     "output_type": "execute_result"
    }
   ],
   "source": [
    "nonoperating_companies_df.columns"
   ]
  },
  {
   "cell_type": "markdown",
   "metadata": {},
   "source": [
    "### Clean up date info"
   ]
  },
  {
   "cell_type": "code",
   "execution_count": 327,
   "metadata": {},
   "outputs": [],
   "source": [
    "# Convert timedelta columns to float values for classification models\n",
    "nonoperating_companies_df['float_avg_time_between_rounds'] = nonoperating_companies_df.avg_time_between_rounds.dt.days\n",
    "nonoperating_companies_df['float_time_between_first_rounds'] = nonoperating_companies_df.time_between_first_rounds.dt.days"
   ]
  },
  {
   "cell_type": "code",
   "execution_count": 333,
   "metadata": {},
   "outputs": [
    {
     "data": {
      "text/plain": [
       "Index(['permalink', 'name', 'category_list', 'funding_total_usd', 'status',\n",
       "       'country_code', 'state_code', 'region', 'city', 'funding_rounds',\n",
       "       'founded_at', 'first_funding_at', 'last_funding_at', 'status_bool',\n",
       "       'company_name', 'avg_time_between_rounds', 'avg_raised_usd',\n",
       "       'time_between_first_rounds', 'categories_list', 'country', 'state',\n",
       "       'seed_bool', 'float_avg_time_between_rounds',\n",
       "       'float_time_between_first_rounds'],\n",
       "      dtype='object')"
      ]
     },
     "execution_count": 333,
     "metadata": {},
     "output_type": "execute_result"
    }
   ],
   "source": [
    "nonoperating_companies_df.columns"
   ]
  },
  {
   "cell_type": "code",
   "execution_count": null,
   "metadata": {},
   "outputs": [],
   "source": [
    "df = nonoperating_companies_df"
   ]
  },
  {
   "cell_type": "markdown",
   "metadata": {},
   "source": [
    "### Outliers"
   ]
  },
  {
   "cell_type": "code",
   "execution_count": null,
   "metadata": {},
   "outputs": [],
   "source": [
    "# Store initial size of dataset\n",
    "init_size = df.shape"
   ]
  },
  {
   "cell_type": "code",
   "execution_count": null,
   "metadata": {},
   "outputs": [],
   "source": [
    "df.describe()"
   ]
  },
  {
   "cell_type": "markdown",
   "metadata": {},
   "source": [
    "The max value for several of the columns is very suspicious for time between rounds and amount ($) raised"
   ]
  },
  {
   "cell_type": "code",
   "execution_count": null,
   "metadata": {},
   "outputs": [],
   "source": [
    "plt.subplots(1, 4, figsize=(15, 5))\n",
    "plt.subplot(1, 4, 1)\n",
    "plt.boxplot(\n",
    "    df.float_time_between_first_rounds[df.float_time_between_first_rounds.notnull()])\n",
    "plt.title('Time between first rounds')\n",
    "plt.subplot(1, 4, 2)\n",
    "plt.boxplot(df.float_avg_time_between_rounds[df.float_avg_time_between_rounds.notnull()])\n",
    "plt.title('Average time between rounds')\n",
    "plt.subplot(1, 4, 3)\n",
    "plt.boxplot(df.avg_raised_usd[df.avg_raised_usd.notnull()])\n",
    "plt.title('Average Raise Amount')\n",
    "plt.subplot(1, 4, 4)\n",
    "plt.boxplot(df.funding_total_usd[df.funding_total_usd.notnull()])\n",
    "plt.title('Total Raise Amount')"
   ]
  },
  {
   "cell_type": "markdown",
   "metadata": {},
   "source": [
    "Skewed heavily to the right - can try to cut out some of the outliers"
   ]
  },
  {
   "cell_type": "code",
   "execution_count": null,
   "metadata": {},
   "outputs": [],
   "source": [
    "def findOutliers(df, column, lim_scalar=1.5):\n",
    "    \"\"\"\n",
    "    Returns outliers above the max limit for a column in a dataframe\n",
    "    Adjust outlier cutoff to q75 + 4*iqr to include more data\n",
    "    ---\n",
    "    input: DataFrame, column(series),lim_scalar(float)\n",
    "    output: DataFrame\n",
    "    \"\"\"\n",
    "    q25, q50, q75 = df[column].quantile(q=[0.25, 0.5, 0.75])\n",
    "    iqr = q75 - q25\n",
    "    # max limits to be considered an outlier\n",
    "    max = q75 + lim_scalar * iqr\n",
    "    # identify the points\n",
    "    outlier_mask = [True if x > max else False for x in df[column]]\n",
    "    print(\n",
    "        '{} outliers found out of {} data points, {:.2f}% of the data'.format(\n",
    "            sum(outlier_mask), len(df[column]),\n",
    "            100 * (sum(outlier_mask) / len(df[column]))))\n",
    "    return outlier_mask"
   ]
  },
  {
   "cell_type": "code",
   "execution_count": null,
   "metadata": {},
   "outputs": [],
   "source": [
    "print('Funding total $: ')\n",
    "fund_total_outlier_mask = pd.Series(\n",
    "    findOutliers(df, 'funding_total_usd', lim_scalar=3))\n",
    "print('Average round $: ')\n",
    "avg_raise_outlier_mask = pd.Series(\n",
    "    findOutliers(df, 'avg_raised_usd', lim_scalar=3))\n",
    "print('Time between first rounds: ')\n",
    "first_time_outlier_mask = pd.Series(\n",
    "    findOutliers(df, 'float_time_between_first_rounds', lim_scalar=1.5))\n",
    "print('Average time between rounds: ')\n",
    "avg_time_outlier_mask = pd.Series(\n",
    "    findOutliers(df, 'float_avg_time_between_rounds', lim_scalar=1.5))"
   ]
  },
  {
   "cell_type": "markdown",
   "metadata": {},
   "source": [
    "Lots of overlap on these points. Remove the outliers"
   ]
  },
  {
   "cell_type": "code",
   "execution_count": null,
   "metadata": {},
   "outputs": [],
   "source": [
    "# Take out outliers\n",
    "clean_df1 = df[~fund_total_outlier_mask]\n",
    "clean_df2 = df[~avg_raise_outlier_mask]\n",
    "clean_df3 = df[~first_time_outlier_mask]\n",
    "clean_df4 = df[~avg_time_outlier_mask]\n",
    "\n",
    "clean_df = clean_df1.merge(clean_df2,\n",
    "                           left_on=list(df.columns),\n",
    "                           right_on=list(df.columns),\n",
    "                           how='inner')\n",
    "clean_df = clean_df.merge(clean_df3,\n",
    "                          left_on=list(df.columns),\n",
    "                          right_on=list(df.columns),\n",
    "                          how='inner')\n",
    "clean_df = clean_df.merge(clean_df4,\n",
    "                          left_on=list(df.columns),\n",
    "                          right_on=list(df.columns),\n",
    "                          how='inner')"
   ]
  },
  {
   "cell_type": "code",
   "execution_count": null,
   "metadata": {},
   "outputs": [],
   "source": [
    "print('Removed {} outliers, {:.2f}% of the original dataset'.format(\n",
    "    (init_size[0] - clean_df.shape[0]), 100 *\n",
    "    ((init_size[0] - clean_df.shape[0]) / (init_size[0] + clean_df.shape[0]))))"
   ]
  },
  {
   "cell_type": "code",
   "execution_count": null,
   "metadata": {},
   "outputs": [],
   "source": [
    "clean_df.describe()"
   ]
  },
  {
   "cell_type": "code",
   "execution_count": null,
   "metadata": {},
   "outputs": [],
   "source": [
    "clean_df.head()"
   ]
  }
 ],
 "metadata": {
  "kernelspec": {
   "display_name": "Python 3",
   "language": "python",
   "name": "python3"
  },
  "language_info": {
   "codemirror_mode": {
    "name": "ipython",
    "version": 3
   },
   "file_extension": ".py",
   "mimetype": "text/x-python",
   "name": "python",
   "nbconvert_exporter": "python",
   "pygments_lexer": "ipython3",
   "version": "3.8.5"
  }
 },
 "nbformat": 4,
 "nbformat_minor": 4
}
